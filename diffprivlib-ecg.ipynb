{
 "cells": [
  {
   "cell_type": "code",
   "execution_count": 1,
   "metadata": {},
   "outputs": [],
   "source": [
    "from sklearn import datasets\n",
    "from sklearn.model_selection import train_test_split\n",
    "import pandas as pd\n"
   ]
  },
  {
   "cell_type": "code",
   "execution_count": 2,
   "metadata": {},
   "outputs": [],
   "source": [
    "import numpy as np\n",
    "import diffprivlib  as dp\n",
    "import matplotlib.pyplot as plt\n",
    "\n"
   ]
  },
  {
   "cell_type": "markdown",
   "metadata": {},
   "source": [
    "### Estimating the Epsilon\n",
    "\n",
    "##### Implementing the Econmic method from Hsu et al.\n",
    "[J. Hsu et al., \"Differential Privacy: An Economic Method for Choosing Epsilon,\" 2014 IEEE 27th Computer Security Foundations Symposium, Vienna, 2014, pp. 398-410.](https://arxiv.org/pdf/1402.3329.pdf)\n",
    "\n",
    "\n",
    "https://www.cis.upenn.edu/~ahae/talks/epsilon-csf2014.pdf\n",
    "\n",
    "\n",
    "<figure>\n",
    "<img src=\"images/hsu-et-al-equation7.PNG\" />\n",
    "</figure>\n",
    "\n",
    "\n",
    "<figure>\n",
    "<img src=\"images/hsu-et-al-equation8.PNG\"  />\n",
    "</figure>\n"
   ]
  },
  {
   "cell_type": "code",
   "execution_count": 3,
   "metadata": {},
   "outputs": [
    {
     "name": "stdout",
     "output_type": "stream",
     "text": [
      "Particpants' belief on the average cost even if they dont attend: 34.32\n",
      "Feasiable cost per particpant based on our budget: [79.29917783]\n",
      "Is it feasible?[ True]\n"
     ]
    }
   ],
   "source": [
    "import numpy as np\n",
    "import matplotlib.pyplot as plt\n",
    "from scipy.optimize import fsolve\n",
    "\n",
    "\n",
    "B =10000#budget\n",
    "alpha=0.02#probability\n",
    "T=0.08#additive error  +- 8%\n",
    "average_breach_chance=0.08\n",
    "average_breach_cost_US=429\n",
    "E_Patient_Expected_US=average_breach_cost_US*average_breach_chance\n",
    "study_feasable_func = lambda E: np.log( 1+ ((B*pow(T,2))/(12*E*np.log(3/alpha))) )-(T/6)\n",
    "initial_guess = 0.01\n",
    "E_feasiable = fsolve(study_feasable_func, initial_guess)\n",
    "\n",
    "print('Particpants\\' belief on the average cost even if they dont attend: '+str(E_Patient_Expected_US))\n",
    "print ('Feasiable cost per particpant based on our budget: '+str(E_feasiable))\n",
    "print('Is it feasible?'+str(E_feasiable>E_Patient_Expected_US))"
   ]
  },
  {
   "cell_type": "code",
   "execution_count": 4,
   "metadata": {},
   "outputs": [
    {
     "name": "stdout",
     "output_type": "stream",
     "text": [
      "Number of particpants: 9395\n"
     ]
    }
   ],
   "source": [
    "N=(12/pow(T,2))*np.log(3/alpha)\n",
    "print('Number of particpants: '+str(int(N+0.5)))\n"
   ]
  },
  {
   "cell_type": "code",
   "execution_count": 5,
   "metadata": {},
   "outputs": [
    {
     "name": "stdout",
     "output_type": "stream",
     "text": [
      "Epsilon Value: 0.013333333333333334\n"
     ]
    }
   ],
   "source": [
    "total_epsilon_budget=T/6\n",
    "print ('Epsilon Value: '+ str(total_epsilon_budget))"
   ]
  },
  {
   "cell_type": "code",
   "execution_count": 6,
   "metadata": {},
   "outputs": [],
   "source": [
    "# total_epsilon_budget=0.1"
   ]
  },
  {
   "cell_type": "markdown",
   "metadata": {},
   "source": [
    "### Load and Preprocess Data"
   ]
  },
  {
   "cell_type": "code",
   "execution_count": 7,
   "metadata": {},
   "outputs": [
    {
     "data": {
      "text/html": [
       "<div>\n",
       "<style scoped>\n",
       "    .dataframe tbody tr th:only-of-type {\n",
       "        vertical-align: middle;\n",
       "    }\n",
       "\n",
       "    .dataframe tbody tr th {\n",
       "        vertical-align: top;\n",
       "    }\n",
       "\n",
       "    .dataframe thead th {\n",
       "        text-align: right;\n",
       "    }\n",
       "</style>\n",
       "<table border=\"1\" class=\"dataframe\">\n",
       "  <thead>\n",
       "    <tr style=\"text-align: right;\">\n",
       "      <th></th>\n",
       "      <th>FileName</th>\n",
       "      <th>Rhythm</th>\n",
       "      <th>Beat</th>\n",
       "      <th>PatientAge</th>\n",
       "      <th>DateofBirth</th>\n",
       "      <th>Gender</th>\n",
       "      <th>VentricularRate</th>\n",
       "      <th>AtrialRate</th>\n",
       "      <th>QRSDuration</th>\n",
       "      <th>QTInterval</th>\n",
       "      <th>QTCorrected</th>\n",
       "      <th>RAxis</th>\n",
       "      <th>TAxis</th>\n",
       "      <th>QRSCount</th>\n",
       "      <th>QOnset</th>\n",
       "      <th>QOffset</th>\n",
       "      <th>TOffset</th>\n",
       "    </tr>\n",
       "  </thead>\n",
       "  <tbody>\n",
       "    <tr>\n",
       "      <th>0</th>\n",
       "      <td>MUSE_20180113_171327_27000</td>\n",
       "      <td>AFIB</td>\n",
       "      <td>RBBB TWC</td>\n",
       "      <td>85</td>\n",
       "      <td>01-01-1932</td>\n",
       "      <td>MALE</td>\n",
       "      <td>117</td>\n",
       "      <td>234</td>\n",
       "      <td>114</td>\n",
       "      <td>356</td>\n",
       "      <td>496</td>\n",
       "      <td>81</td>\n",
       "      <td>-27</td>\n",
       "      <td>19</td>\n",
       "      <td>208</td>\n",
       "      <td>265</td>\n",
       "      <td>386</td>\n",
       "    </tr>\n",
       "    <tr>\n",
       "      <th>1</th>\n",
       "      <td>MUSE_20180112_073319_29000</td>\n",
       "      <td>SB</td>\n",
       "      <td>TWC</td>\n",
       "      <td>59</td>\n",
       "      <td>01-01-1958</td>\n",
       "      <td>FEMALE</td>\n",
       "      <td>52</td>\n",
       "      <td>52</td>\n",
       "      <td>92</td>\n",
       "      <td>432</td>\n",
       "      <td>401</td>\n",
       "      <td>76</td>\n",
       "      <td>42</td>\n",
       "      <td>8</td>\n",
       "      <td>215</td>\n",
       "      <td>261</td>\n",
       "      <td>431</td>\n",
       "    </tr>\n",
       "    <tr>\n",
       "      <th>2</th>\n",
       "      <td>MUSE_20180111_165520_97000</td>\n",
       "      <td>SA</td>\n",
       "      <td>NONE</td>\n",
       "      <td>20</td>\n",
       "      <td>01-01-1996</td>\n",
       "      <td>FEMALE</td>\n",
       "      <td>67</td>\n",
       "      <td>67</td>\n",
       "      <td>82</td>\n",
       "      <td>382</td>\n",
       "      <td>403</td>\n",
       "      <td>88</td>\n",
       "      <td>20</td>\n",
       "      <td>11</td>\n",
       "      <td>224</td>\n",
       "      <td>265</td>\n",
       "      <td>415</td>\n",
       "    </tr>\n",
       "    <tr>\n",
       "      <th>3</th>\n",
       "      <td>MUSE_20180113_121940_44000</td>\n",
       "      <td>SB</td>\n",
       "      <td>NONE</td>\n",
       "      <td>66</td>\n",
       "      <td>01-01-1951</td>\n",
       "      <td>MALE</td>\n",
       "      <td>53</td>\n",
       "      <td>53</td>\n",
       "      <td>96</td>\n",
       "      <td>456</td>\n",
       "      <td>427</td>\n",
       "      <td>34</td>\n",
       "      <td>3</td>\n",
       "      <td>9</td>\n",
       "      <td>219</td>\n",
       "      <td>267</td>\n",
       "      <td>447</td>\n",
       "    </tr>\n",
       "    <tr>\n",
       "      <th>4</th>\n",
       "      <td>MUSE_20180112_122850_57000</td>\n",
       "      <td>AF</td>\n",
       "      <td>STDD STTC</td>\n",
       "      <td>73</td>\n",
       "      <td>01-01-1943</td>\n",
       "      <td>FEMALE</td>\n",
       "      <td>162</td>\n",
       "      <td>162</td>\n",
       "      <td>114</td>\n",
       "      <td>252</td>\n",
       "      <td>413</td>\n",
       "      <td>68</td>\n",
       "      <td>-40</td>\n",
       "      <td>26</td>\n",
       "      <td>228</td>\n",
       "      <td>285</td>\n",
       "      <td>354</td>\n",
       "    </tr>\n",
       "  </tbody>\n",
       "</table>\n",
       "</div>"
      ],
      "text/plain": [
       "                     FileName Rhythm       Beat  PatientAge DateofBirth  \\\n",
       "0  MUSE_20180113_171327_27000   AFIB   RBBB TWC          85  01-01-1932   \n",
       "1  MUSE_20180112_073319_29000     SB        TWC          59  01-01-1958   \n",
       "2  MUSE_20180111_165520_97000     SA       NONE          20  01-01-1996   \n",
       "3  MUSE_20180113_121940_44000     SB       NONE          66  01-01-1951   \n",
       "4  MUSE_20180112_122850_57000     AF  STDD STTC          73  01-01-1943   \n",
       "\n",
       "   Gender  VentricularRate  AtrialRate  QRSDuration  QTInterval  QTCorrected  \\\n",
       "0    MALE              117         234          114         356          496   \n",
       "1  FEMALE               52          52           92         432          401   \n",
       "2  FEMALE               67          67           82         382          403   \n",
       "3    MALE               53          53           96         456          427   \n",
       "4  FEMALE              162         162          114         252          413   \n",
       "\n",
       "   RAxis  TAxis  QRSCount  QOnset  QOffset  TOffset  \n",
       "0     81    -27        19     208      265      386  \n",
       "1     76     42         8     215      261      431  \n",
       "2     88     20        11     224      265      415  \n",
       "3     34      3         9     219      267      447  \n",
       "4     68    -40        26     228      285      354  "
      ]
     },
     "execution_count": 7,
     "metadata": {},
     "output_type": "execute_result"
    }
   ],
   "source": [
    "ecg_file_input_path='/Users/aring/jupyter/differential-privacy/data/Arno/Diagnostics.xlsx'\n",
    "ecg_df=pd.read_excel(ecg_file_input_path)\n",
    "ecg_df.head()"
   ]
  },
  {
   "cell_type": "code",
   "execution_count": 8,
   "metadata": {},
   "outputs": [],
   "source": [
    "Y_df=ecg_df['Rhythm']\n"
   ]
  },
  {
   "cell_type": "code",
   "execution_count": 81,
   "metadata": {},
   "outputs": [
    {
     "data": {
      "text/plain": [
       "array(['AFIB', 'SB', 'SA', 'AF', 'SR', 'ST', 'SVT', 'AT', 'AVNRT',\n",
       "       'SAAWR', 'AVRT'], dtype=object)"
      ]
     },
     "execution_count": 81,
     "metadata": {},
     "output_type": "execute_result"
    }
   ],
   "source": [
    "arrhytmia_types=Y_df.unique()\n",
    "arrhytmia_types"
   ]
  },
  {
   "cell_type": "markdown",
   "metadata": {},
   "source": [
    "### Train Classifier"
   ]
  },
  {
   "cell_type": "code",
   "execution_count": 10,
   "metadata": {},
   "outputs": [],
   "source": [
    "from sklearn import preprocessing\n",
    "\n",
    "labelEncoder = preprocessing.LabelEncoder();\n",
    "encoded_y=labelEncoder.fit_transform(Y_df)"
   ]
  },
  {
   "cell_type": "code",
   "execution_count": 11,
   "metadata": {},
   "outputs": [],
   "source": [
    "ecg_df.drop(['DateofBirth'], axis=1,inplace=True)\n",
    "ecg_df.drop(['Beat'], axis=1,inplace=True)\n",
    "ecg_df.drop(['FileName'], axis=1,inplace=True)\n",
    "ecg_df.drop(['Rhythm'], axis=1,inplace=True)\n"
   ]
  },
  {
   "cell_type": "code",
   "execution_count": 12,
   "metadata": {},
   "outputs": [],
   "source": [
    "ecg_df['Gender_encoded']=ecg_df['Gender'].map({'MALE':0,'FEMALE':1})\n"
   ]
  },
  {
   "cell_type": "code",
   "execution_count": 13,
   "metadata": {},
   "outputs": [],
   "source": [
    "gender_df=ecg_df['Gender_encoded']\n",
    "ecg_df.drop(['Gender'], axis=1,inplace=True)"
   ]
  },
  {
   "cell_type": "code",
   "execution_count": 14,
   "metadata": {},
   "outputs": [],
   "source": [
    "X_train, X_test, y_train, y_test = train_test_split(ecg_df, encoded_y, test_size=0.2)"
   ]
  },
  {
   "cell_type": "code",
   "execution_count": 15,
   "metadata": {},
   "outputs": [
    {
     "name": "stderr",
     "output_type": "stream",
     "text": [
      "/anaconda3/lib/python3.7/site-packages/diffprivlib/models/naive_bayes.py:102: PrivacyLeakWarning: Bounds have not been specified and will be calculated on the data provided. This will result in additional privacy leakage. To ensure differential privacy and no additional privacy leakage, specify bounds for each dimension.\n",
      "  \"privacy leakage, specify bounds for each dimension.\", PrivacyLeakWarning)\n"
     ]
    },
    {
     "data": {
      "text/plain": [
       "GaussianNB(accountant=BudgetAccountant(spent_budget=[(1, 0)]),\n",
       "           bounds=(array([  4.,  34.,   0.,  52., 114., 219., -89., -89.,   5., 159., 249.,\n",
       "       281.,   0.]),\n",
       "                   array([ 98., 263., 535., 234., 736., 760., 270., 270.,  40., 235., 331.,\n",
       "       582.,   1.])),\n",
       "           epsilon=1)"
      ]
     },
     "execution_count": 15,
     "metadata": {},
     "output_type": "execute_result"
    }
   ],
   "source": [
    "from diffprivlib.models import GaussianNB\n",
    "\n",
    "clf = GaussianNB(epsilon=1)\n",
    "clf.fit(X_train, y_train)"
   ]
  },
  {
   "cell_type": "code",
   "execution_count": 16,
   "metadata": {},
   "outputs": [],
   "source": [
    "pred=clf.predict(X_test[1:100])\n"
   ]
  },
  {
   "cell_type": "code",
   "execution_count": 17,
   "metadata": {},
   "outputs": [
    {
     "name": "stdout",
     "output_type": "stream",
     "text": [
      "[ 7  9 10  9  8  0  7  9  8  7  5  1  2  7 10  7  7  8  9  5  7  5  0  1\n",
      "  7  0  1  1  7  8  7  1  1  2  1  1  1  7  8  7  7 10  7  7  8  1  8  9\n",
      "  7  7  7  1  7  9  8  5  8  8  9  8  8  7  0  7  7  8  5  7  0 10  0  8\n",
      "  1 10  8  1  1  8 10  8  7  9  7  5  0  7  7  7  2  8  7  7  8  1  7  5\n",
      "  7  9  2]\n"
     ]
    }
   ],
   "source": [
    "print(y_test[1:100])"
   ]
  },
  {
   "cell_type": "code",
   "execution_count": 18,
   "metadata": {},
   "outputs": [
    {
     "data": {
      "text/plain": [
       "0.5427230046948357"
      ]
     },
     "execution_count": 18,
     "metadata": {},
     "output_type": "execute_result"
    }
   ],
   "source": [
    "clf.score(X_test, y_test)"
   ]
  },
  {
   "cell_type": "code",
   "execution_count": 19,
   "metadata": {},
   "outputs": [
    {
     "data": {
      "text/plain": [
       "0.7408450704225352"
      ]
     },
     "execution_count": 19,
     "metadata": {},
     "output_type": "execute_result"
    }
   ],
   "source": [
    "from sklearn.naive_bayes import GaussianNB\n",
    "\n",
    "clf = GaussianNB()\n",
    "clf.fit(X_train, y_train)\n",
    "clf.score(X_test, y_test)"
   ]
  },
  {
   "cell_type": "markdown",
   "metadata": {},
   "source": [
    "### changing epsilon"
   ]
  },
  {
   "cell_type": "code",
   "execution_count": 20,
   "metadata": {},
   "outputs": [],
   "source": [
    "col_names=ecg_df.columns\n",
    "ranges_min=[]\n",
    "ranges_max=[]\n",
    "for i in range(len(col_names)):\n",
    "    ranges_min.append(ecg_df[ecg_df.columns[i]].min())\n",
    "    ranges_max.append(ecg_df[ecg_df.columns[i]].max())"
   ]
  },
  {
   "cell_type": "code",
   "execution_count": 21,
   "metadata": {},
   "outputs": [
    {
     "data": {
      "image/png": "[encoded data removed]",
      "text/plain": [
       "<Figure size 432x288 with 1 Axes>"
      ]
     },
     "metadata": {
      "needs_background": "light"
     },
     "output_type": "display_data"
    }
   ],
   "source": [
    "import numpy as np\n",
    "import matplotlib.pyplot as plt\n",
    "from diffprivlib.models import GaussianNB\n",
    "\n",
    "epsilons = np.logspace(-2, 2, 50)\n",
    "bounds = (ranges_min,ranges_max )\n",
    "accuracy = list()\n",
    "\n",
    "for epsilon in epsilons:\n",
    "    clf = GaussianNB(bounds=bounds, epsilon=epsilon)\n",
    "    clf.fit(X_train, y_train)\n",
    "    \n",
    "    accuracy.append(clf.score(X_test, y_test))\n",
    "\n",
    "plt.semilogx(epsilons, accuracy)\n",
    "plt.title(\"Differentially private Naive Bayes accuracy\")\n",
    "plt.xlabel(\"epsilon\")\n",
    "plt.ylabel(\"Accuracy\")\n",
    "plt.show()"
   ]
  },
  {
   "cell_type": "code",
   "execution_count": null,
   "metadata": {},
   "outputs": [],
   "source": []
  },
  {
   "cell_type": "code",
   "execution_count": null,
   "metadata": {},
   "outputs": [],
   "source": []
  },
  {
   "cell_type": "code",
   "execution_count": null,
   "metadata": {},
   "outputs": [],
   "source": []
  },
  {
   "cell_type": "markdown",
   "metadata": {},
   "source": [
    "### Age Distributoin Histograms\n"
   ]
  },
  {
   "cell_type": "code",
   "execution_count": 22,
   "metadata": {},
   "outputs": [],
   "source": [
    "ages=ecg_df['PatientAge']\n",
    "hist, bins = np.histogram(ages)\n",
    "hist = hist / hist.sum()"
   ]
  },
  {
   "cell_type": "code",
   "execution_count": 23,
   "metadata": {},
   "outputs": [
    {
     "data": {
      "image/png": "[encoded data removed]",
      "text/plain": [
       "<Figure size 432x288 with 1 Axes>"
      ]
     },
     "metadata": {
      "needs_background": "light"
     },
     "output_type": "display_data"
    }
   ],
   "source": [
    "\n",
    "plt.bar(bins[:-1], hist, width=(bins[1]-bins[0]) * 0.9)\n",
    "plt.show()"
   ]
  },
  {
   "cell_type": "markdown",
   "metadata": {},
   "source": [
    "We know from the dataset description that everyone in the dataset is between 4-98 years. WE should set the range tto the general bound of this attribute. we'll set the upper bound to 100, As of 2019, less than 0.005% of the world's population is aged over 100. Values above 100 will be excluded from calculations."
   ]
  },
  {
   "cell_type": "code",
   "execution_count": 24,
   "metadata": {},
   "outputs": [
    {
     "data": {
      "image/png": "[encoded data removed]",
      "text/plain": [
       "<Figure size 432x288 with 1 Axes>"
      ]
     },
     "metadata": {
      "needs_background": "light"
     },
     "output_type": "display_data"
    }
   ],
   "source": [
    "dp_hist, dp_bins = dp.tools.histogram(ages, epsilon=0.01, range=(0, 100))\n",
    "dp_hist = dp_hist / dp_hist.sum()\n",
    "\n",
    "plt.bar(dp_bins[:-1], dp_hist, width=(dp_bins[1] - dp_bins[0]) * 0.9)\n",
    "plt.show()"
   ]
  },
  {
   "cell_type": "code",
   "execution_count": 25,
   "metadata": {},
   "outputs": [
    {
     "name": "stdout",
     "output_type": "stream",
     "text": [
      "Total histogram error: 0.089507\n"
     ]
    }
   ],
   "source": [
    "print(\"Total histogram error: %f\" % np.abs(hist - dp_hist).sum())\n"
   ]
  },
  {
   "cell_type": "code",
   "execution_count": 26,
   "metadata": {},
   "outputs": [
    {
     "data": {
      "text/plain": [
       "False"
      ]
     },
     "execution_count": 26,
     "metadata": {},
     "output_type": "execute_result"
    }
   ],
   "source": [
    "np.all(dp_bins == bins)\n"
   ]
  },
  {
   "cell_type": "markdown",
   "metadata": {},
   "source": [
    "#### Gender Distribution"
   ]
  },
  {
   "cell_type": "code",
   "execution_count": 27,
   "metadata": {},
   "outputs": [
    {
     "data": {
      "image/png": "[encoded data removed]",
      "text/plain": [
       "<Figure size 432x288 with 1 Axes>"
      ]
     },
     "metadata": {
      "needs_background": "light"
     },
     "output_type": "display_data"
    }
   ],
   "source": [
    "\n",
    "hist, bins = np.histogram(gender_df,bins=2)\n",
    "hist = hist / hist.sum()\n",
    "plt.bar(bins[:-1], hist, width=(bins[1]-bins[0]) * 0.9)\n",
    "plt.show()"
   ]
  },
  {
   "cell_type": "code",
   "execution_count": 28,
   "metadata": {},
   "outputs": [
    {
     "name": "stderr",
     "output_type": "stream",
     "text": [
      "/anaconda3/lib/python3.7/site-packages/diffprivlib/tools/histograms.py:132: PrivacyLeakWarning: Range parameter has not been specified. Falling back to taking range from the data.\n",
      "To ensure differential privacy, and no additional privacy leakage, the range must be specified independently of the data (i.e., using domain knowledge).\n",
      "  \"specified independently of the data (i.e., using domain knowledge).\", PrivacyLeakWarning)\n"
     ]
    },
    {
     "data": {
      "image/png": "[encoded data removed]",
      "text/plain": [
       "<Figure size 432x288 with 1 Axes>"
      ]
     },
     "metadata": {
      "needs_background": "light"
     },
     "output_type": "display_data"
    }
   ],
   "source": [
    "dp_hist, dp_bins = dp.tools.histogram(gender_df, epsilon=0.01,bins=2)\n",
    "dp_hist = dp_hist / dp_hist.sum()\n",
    "\n",
    "plt.bar(dp_bins[:-1], dp_hist, width=(dp_bins[1] - dp_bins[0]) * 0.9)\n",
    "plt.show()"
   ]
  },
  {
   "cell_type": "code",
   "execution_count": 29,
   "metadata": {},
   "outputs": [
    {
     "data": {
      "text/plain": [
       "True"
      ]
     },
     "execution_count": 29,
     "metadata": {},
     "output_type": "execute_result"
    }
   ],
   "source": [
    "np.all(dp_bins == bins)\n"
   ]
  },
  {
   "cell_type": "code",
   "execution_count": 30,
   "metadata": {},
   "outputs": [
    {
     "name": "stdout",
     "output_type": "stream",
     "text": [
      "Total histogram error: 0.015586\n"
     ]
    }
   ],
   "source": [
    "print(\"Total histogram error: %f\" % np.abs(hist - dp_hist).sum())\n"
   ]
  },
  {
   "cell_type": "markdown",
   "metadata": {},
   "source": [
    "### Finding the range of the values"
   ]
  },
  {
   "cell_type": "code",
   "execution_count": 31,
   "metadata": {},
   "outputs": [],
   "source": [
    "col_names=ecg_df.columns\n",
    "ranges=[]\n",
    "for i in range(len(col_names)):\n",
    "    ranges.append((ecg_df[ecg_df.columns[i]].min(),ecg_df[ecg_df.columns[i]].max()))"
   ]
  },
  {
   "cell_type": "code",
   "execution_count": 32,
   "metadata": {},
   "outputs": [
    {
     "data": {
      "text/plain": [
       "Index(['PatientAge', 'VentricularRate', 'AtrialRate', 'QRSDuration',\n",
       "       'QTInterval', 'QTCorrected', 'RAxis', 'TAxis', 'QRSCount', 'QOnset',\n",
       "       'QOffset', 'TOffset', 'Gender_encoded'],\n",
       "      dtype='object')"
      ]
     },
     "execution_count": 32,
     "metadata": {},
     "output_type": "execute_result"
    }
   ],
   "source": [
    "col_names"
   ]
  },
  {
   "cell_type": "code",
   "execution_count": 33,
   "metadata": {},
   "outputs": [],
   "source": [
    "VentricularRate_index=1\n",
    "QRSDuration_index=3\n",
    "QTInterval_index=4\n",
    "AtrialRat_indexe=2\n",
    "\n"
   ]
  },
  {
   "cell_type": "code",
   "execution_count": 34,
   "metadata": {},
   "outputs": [
    {
     "data": {
      "text/plain": [
       "[(4, 98),\n",
       " (34, 263),\n",
       " (0, 535),\n",
       " (18, 256),\n",
       " (114, 736),\n",
       " (219, 760),\n",
       " (-89, 270),\n",
       " (-89, 270),\n",
       " (5, 40),\n",
       " (159, 240),\n",
       " (249, 331),\n",
       " (281, 582),\n",
       " (0, 1)]"
      ]
     },
     "execution_count": 34,
     "metadata": {},
     "output_type": "execute_result"
    }
   ],
   "source": [
    "ranges"
   ]
  },
  {
   "cell_type": "markdown",
   "metadata": {},
   "source": [
    "#### Distribution of variables"
   ]
  },
  {
   "cell_type": "code",
   "execution_count": 35,
   "metadata": {},
   "outputs": [
    {
     "data": {
      "image/png": "[encoded data removed]",
      "text/plain": [
       "<Figure size 1152x936 with 11 Axes>"
      ]
     },
     "metadata": {
      "needs_background": "light"
     },
     "output_type": "display_data"
    }
   ],
   "source": [
    "# ecg_df_no_gender=ecg_df.drop(['Rhythm'], axis=1)\n",
    "col_names=ecg_df.columns\n",
    "\n",
    "n_examples = ecg_df.shape[0]\n",
    "\n",
    "fig, axs = plt.subplots(4, 3, sharey=True, figsize=(16, 13))\n",
    "fig.subplots_adjust(hspace=0.35)\n",
    "\n",
    "for i in range(1,12):\n",
    "    ax = axs.flat[i-1]\n",
    "    ax.set_title(col_names[i])\n",
    "    _range = ranges[i]\n",
    "    n_bins = 20\n",
    "    \n",
    "\n",
    "    bar_width = (_range[1] - _range[0]) / n_bins * 0.9\n",
    "    \n",
    "    hist, bins = dp.tools.histogram(ecg_df.iloc[:, i], bins=n_bins, range=_range, epsilon=0.01)\n",
    "    ax.bar(bins[:-1] + np.diff(bins), hist , width=bar_width)\n",
    "#     ax.set_ylim(0, 1)\n",
    "fig.delaxes(axs[3,2])\n",
    "plt.show()"
   ]
  },
  {
   "cell_type": "markdown",
   "metadata": {},
   "source": [
    "##### actuals"
   ]
  },
  {
   "cell_type": "code",
   "execution_count": 36,
   "metadata": {},
   "outputs": [
    {
     "data": {
      "image/png": "[encoded data removed]",
      "text/plain": [
       "<Figure size 1152x936 with 11 Axes>"
      ]
     },
     "metadata": {
      "needs_background": "light"
     },
     "output_type": "display_data"
    }
   ],
   "source": [
    "col_names=ecg_df.columns\n",
    "\n",
    "n_examples = ecg_df.shape[0]\n",
    "\n",
    "fig, axs = plt.subplots(4, 3, sharey=True, figsize=(16, 13))\n",
    "fig.subplots_adjust(hspace=0.35)\n",
    "\n",
    "for i in range(1,12):\n",
    "    ax = axs.flat[i-1]\n",
    "    ax.set_title(col_names[i])\n",
    "    _range = ranges[i]\n",
    "    n_bins = 20\n",
    "    \n",
    "\n",
    "    bar_width = (_range[1] - _range[0]) / n_bins * 0.9\n",
    "    \n",
    "    hist, bins = np.histogram(ecg_df.iloc[:, i], bins=n_bins, range=_range)\n",
    "    ax.bar(bins[:-1] + np.diff(bins), hist , width=bar_width)\n",
    "#     ax.set_ylim(0, 1)\n",
    "fig.delaxes(axs[3,2])\n",
    "\n",
    "plt.show()"
   ]
  },
  {
   "cell_type": "markdown",
   "metadata": {},
   "source": [
    "## Publishing A Differntially Private Report "
   ]
  },
  {
   "cell_type": "markdown",
   "metadata": {},
   "source": [
    "### Allocating the Privacy Budget"
   ]
  },
  {
   "cell_type": "code",
   "execution_count": 37,
   "metadata": {},
   "outputs": [],
   "source": [
    "total_epsilon_budget=0.08\n",
    "\n",
    "acc = dp.BudgetAccountant(total_epsilon_budget, 0)\n",
    "acc.set_default()\n",
    "\n",
    "eps_unit=total_epsilon_budget/8\n",
    "\n",
    "\n",
    "VentricularRate_index=1\n",
    "QRSDuration_index=3\n",
    "QTInterval_index=4\n",
    "AtrialRat_indexe=2"
   ]
  },
  {
   "cell_type": "code",
   "execution_count": 38,
   "metadata": {},
   "outputs": [
    {
     "data": {
      "text/plain": [
       "0.01"
      ]
     },
     "execution_count": 38,
     "metadata": {},
     "output_type": "execute_result"
    }
   ],
   "source": [
    "eps_unit"
   ]
  },
  {
   "cell_type": "markdown",
   "metadata": {},
   "source": [
    "### QRS Duration gender differences"
   ]
  },
  {
   "cell_type": "code",
   "execution_count": 39,
   "metadata": {},
   "outputs": [
    {
     "data": {
      "text/plain": [
       "94.83304493137993"
      ]
     },
     "execution_count": 39,
     "metadata": {},
     "output_type": "execute_result"
    }
   ],
   "source": [
    "dp.tools.mean(ecg_df[ecg_df['Gender_encoded']==0].values[:,QRSDuration_index],bounds=ranges[QRSDuration_index],epsilon=eps_unit*2)\n"
   ]
  },
  {
   "cell_type": "code",
   "execution_count": 40,
   "metadata": {},
   "outputs": [
    {
     "data": {
      "text/plain": [
       "84.85012274570464"
      ]
     },
     "execution_count": 40,
     "metadata": {},
     "output_type": "execute_result"
    }
   ],
   "source": [
    "dp.tools.mean(ecg_df[ecg_df['Gender_encoded']==1].values[:,QRSDuration_index],bounds=ranges[QRSDuration_index],epsilon=eps_unit*2)\n"
   ]
  },
  {
   "cell_type": "markdown",
   "metadata": {},
   "source": [
    "#### Actuals"
   ]
  },
  {
   "cell_type": "code",
   "execution_count": 41,
   "metadata": {},
   "outputs": [
    {
     "data": {
      "text/plain": [
       "95.16218938885157"
      ]
     },
     "execution_count": 41,
     "metadata": {},
     "output_type": "execute_result"
    }
   ],
   "source": [
    "np.mean(ecg_df[ecg_df['Gender_encoded']==0].values[:,QRSDuration_index])\n"
   ]
  },
  {
   "cell_type": "code",
   "execution_count": 42,
   "metadata": {},
   "outputs": [
    {
     "data": {
      "text/plain": [
       "85.68997867803839"
      ]
     },
     "execution_count": 42,
     "metadata": {},
     "output_type": "execute_result"
    }
   ],
   "source": [
    "np.mean(ecg_df[ecg_df['Gender_encoded']==1].values[:,QRSDuration_index])\n"
   ]
  },
  {
   "cell_type": "markdown",
   "metadata": {},
   "source": [
    "### Ventricular rate Duration gender differences"
   ]
  },
  {
   "cell_type": "code",
   "execution_count": 43,
   "metadata": {},
   "outputs": [
    {
     "data": {
      "text/plain": [
       "81.30974223699106"
      ]
     },
     "execution_count": 43,
     "metadata": {},
     "output_type": "execute_result"
    }
   ],
   "source": [
    "dp.tools.mean(ecg_df[ecg_df['Gender_encoded']==0].values[:,VentricularRate_index],bounds=ranges[VentricularRate_index],epsilon=eps_unit)\n"
   ]
  },
  {
   "cell_type": "code",
   "execution_count": 44,
   "metadata": {},
   "outputs": [
    {
     "data": {
      "text/plain": [
       "85.36936332082178"
      ]
     },
     "execution_count": 44,
     "metadata": {},
     "output_type": "execute_result"
    }
   ],
   "source": [
    "dp.tools.mean(ecg_df[ecg_df['Gender_encoded']==1].values[:,VentricularRate_index],bounds=ranges[VentricularRate_index],epsilon=eps_unit)\n"
   ]
  },
  {
   "cell_type": "markdown",
   "metadata": {},
   "source": [
    "#### Actuals"
   ]
  },
  {
   "cell_type": "code",
   "execution_count": 45,
   "metadata": {},
   "outputs": [
    {
     "data": {
      "text/plain": [
       "81.26108126259234"
      ]
     },
     "execution_count": 45,
     "metadata": {},
     "output_type": "execute_result"
    }
   ],
   "source": [
    "np.mean(ecg_df[ecg_df['Gender_encoded']==0].values[:,VentricularRate_index])\n"
   ]
  },
  {
   "cell_type": "code",
   "execution_count": 46,
   "metadata": {},
   "outputs": [
    {
     "data": {
      "text/plain": [
       "87.78720682302772"
      ]
     },
     "execution_count": 46,
     "metadata": {},
     "output_type": "execute_result"
    }
   ],
   "source": [
    "np.mean(ecg_df[ecg_df['Gender_encoded']==1].values[:,VentricularRate_index])\n"
   ]
  },
  {
   "cell_type": "markdown",
   "metadata": {},
   "source": [
    "### QTInterval  Duration gender differences"
   ]
  },
  {
   "cell_type": "code",
   "execution_count": 47,
   "metadata": {},
   "outputs": [
    {
     "data": {
      "text/plain": [
       "388.8342912686874"
      ]
     },
     "execution_count": 47,
     "metadata": {},
     "output_type": "execute_result"
    }
   ],
   "source": [
    "dp.tools.mean(ecg_df[ecg_df['Gender_encoded']==0].values[:,QTInterval_index],bounds=ranges[QTInterval_index],epsilon=eps_unit)\n"
   ]
  },
  {
   "cell_type": "code",
   "execution_count": 48,
   "metadata": {},
   "outputs": [
    {
     "data": {
      "text/plain": [
       "356.95663996372747"
      ]
     },
     "execution_count": 48,
     "metadata": {},
     "output_type": "execute_result"
    }
   ],
   "source": [
    "dp.tools.mean(ecg_df[ecg_df['Gender_encoded']==1].values[:,QTInterval_index],bounds=ranges[QTInterval_index],epsilon=eps_unit)\n"
   ]
  },
  {
   "cell_type": "markdown",
   "metadata": {},
   "source": [
    "#### Actuals"
   ]
  },
  {
   "cell_type": "code",
   "execution_count": 49,
   "metadata": {},
   "outputs": [
    {
     "data": {
      "text/plain": [
       "386.42209536601746"
      ]
     },
     "execution_count": 49,
     "metadata": {},
     "output_type": "execute_result"
    }
   ],
   "source": [
    "np.mean(ecg_df[ecg_df['Gender_encoded']==0].values[:,QTInterval_index])\n"
   ]
  },
  {
   "cell_type": "code",
   "execution_count": 50,
   "metadata": {},
   "outputs": [
    {
     "data": {
      "text/plain": [
       "381.26652452025587"
      ]
     },
     "execution_count": 50,
     "metadata": {},
     "output_type": "execute_result"
    }
   ],
   "source": [
    "np.mean(ecg_df[ecg_df['Gender_encoded']==1].values[:,QTInterval_index])\n"
   ]
  },
  {
   "cell_type": "code",
   "execution_count": 51,
   "metadata": {},
   "outputs": [
    {
     "data": {
      "text/plain": [
       "(epsilon=4.440892098500626e-18, delta=0.0)"
      ]
     },
     "execution_count": 51,
     "metadata": {},
     "output_type": "execute_result"
    }
   ],
   "source": [
    "acc.remaining()"
   ]
  },
  {
   "cell_type": "code",
   "execution_count": 52,
   "metadata": {},
   "outputs": [
    {
     "data": {
      "text/plain": [
       "<bound method BudgetAccountant.total of BudgetAccountant(epsilon=0.08, delta=0, spent_budget=[(0.02, 0), (0.02, 0), (0.01, 0), (0.01, 0), (0.01, 0), ...])>"
      ]
     },
     "execution_count": 52,
     "metadata": {},
     "output_type": "execute_result"
    }
   ],
   "source": [
    "acc.total"
   ]
  },
  {
   "cell_type": "code",
   "execution_count": 53,
   "metadata": {},
   "outputs": [
    {
     "data": {
      "text/plain": [
       "(114, 736)"
      ]
     },
     "execution_count": 53,
     "metadata": {},
     "output_type": "execute_result"
    }
   ],
   "source": [
    "ranges[QTInterval_index]"
   ]
  },
  {
   "cell_type": "markdown",
   "metadata": {},
   "source": [
    "### QRS duration changes in Arrhythmias\n"
   ]
  },
  {
   "cell_type": "code",
   "execution_count": 95,
   "metadata": {},
   "outputs": [],
   "source": [
    "total_epsilon_budget=0.11\n",
    "\n",
    "acc = dp.BudgetAccountant(total_epsilon_budget, 0)\n",
    "acc.set_default()\n",
    "\n",
    "eps_unit=total_epsilon_budget/11\n",
    "\n",
    "\n",
    "VentricularRate_index=1\n",
    "QRSDuration_index=3\n",
    "QTInterval_index=4\n",
    "AtrialRat_indexe=2"
   ]
  },
  {
   "cell_type": "code",
   "execution_count": 96,
   "metadata": {},
   "outputs": [
    {
     "data": {
      "text/plain": [
       "0.01"
      ]
     },
     "execution_count": 96,
     "metadata": {},
     "output_type": "execute_result"
    }
   ],
   "source": [
    "eps_unit"
   ]
  },
  {
   "cell_type": "code",
   "execution_count": 97,
   "metadata": {},
   "outputs": [
    {
     "name": "stdout",
     "output_type": "stream",
     "text": [
      "AFIB\n",
      "actual: 92.78089887640449\n",
      "dp: 90.82661716121389\n",
      "SB\n",
      "actual: 93.31807662638211\n",
      "dp: 103.5866663120729\n",
      "SA\n",
      "actual: 87.45363408521304\n",
      "dp: 18.0\n",
      "AF\n",
      "actual: 97.29887640449438\n",
      "dp: 106.30366929888093\n",
      "SR\n",
      "actual: 87.00438116100767\n",
      "dp: 74.44475057324813\n",
      "ST\n",
      "actual: 85.27678571428571\n",
      "dp: 83.7752863568833\n",
      "SVT\n",
      "actual: 96.05451448040886\n",
      "dp: 18.0\n",
      "AT\n",
      "actual: 88.95867768595042\n",
      "dp: 18.0\n",
      "AVNRT\n",
      "actual: 89.875\n",
      "dp: 18.0\n",
      "SAAWR\n",
      "actual: 84.85714285714286\n",
      "dp: 256.0\n",
      "AVRT\n",
      "actual: 81.5\n",
      "dp: 256.0\n"
     ]
    }
   ],
   "source": [
    "for arrhytmia in arrhytmia_types:\n",
    "    print(arrhytmia)\n",
    "    print('actual: '+str(np.mean(ecg_df[Y_df==arrhytmia].values[:,QRSDuration_index])))\n",
    "    print('dp: '+str (dp.tools.mean(ecg_df[Y_df==arrhytmia].values[:,QRSDuration_index],bounds=ranges[QRSDuration_index],epsilon=eps_unit)))\n",
    "\n",
    "    "
   ]
  },
  {
   "cell_type": "code",
   "execution_count": 93,
   "metadata": {},
   "outputs": [
    {
     "data": {
      "text/plain": [
       "(epsilon=1.2212453270876722e-17, delta=0.0)"
      ]
     },
     "execution_count": 93,
     "metadata": {},
     "output_type": "execute_result"
    }
   ],
   "source": [
    "acc.remaining()"
   ]
  },
  {
   "cell_type": "code",
   "execution_count": 98,
   "metadata": {},
   "outputs": [
    {
     "data": {
      "text/plain": [
       "[(4, 98),\n",
       " (34, 263),\n",
       " (0, 535),\n",
       " (18, 256),\n",
       " (114, 736),\n",
       " (219, 760),\n",
       " (-89, 270),\n",
       " (-89, 270),\n",
       " (5, 40),\n",
       " (159, 240),\n",
       " (249, 331),\n",
       " (281, 582),\n",
       " (0, 1)]"
      ]
     },
     "execution_count": 98,
     "metadata": {},
     "output_type": "execute_result"
    }
   ],
   "source": [
    "ranges"
   ]
  },
  {
   "cell_type": "markdown",
   "metadata": {},
   "source": [
    "#### Run 2"
   ]
  },
  {
   "cell_type": "code",
   "execution_count": 99,
   "metadata": {},
   "outputs": [],
   "source": [
    "total_epsilon_budget=0.11\n",
    "\n",
    "acc = dp.BudgetAccountant(total_epsilon_budget, 0)\n",
    "acc.set_default()\n",
    "\n",
    "eps_unit=total_epsilon_budget/11\n",
    "\n",
    "\n",
    "VentricularRate_index=1\n",
    "QRSDuration_index=3\n",
    "QTInterval_index=4\n",
    "AtrialRat_indexe=2"
   ]
  },
  {
   "cell_type": "code",
   "execution_count": 100,
   "metadata": {},
   "outputs": [
    {
     "data": {
      "text/plain": [
       "0.01"
      ]
     },
     "execution_count": 100,
     "metadata": {},
     "output_type": "execute_result"
    }
   ],
   "source": [
    "eps_unit"
   ]
  },
  {
   "cell_type": "code",
   "execution_count": 101,
   "metadata": {},
   "outputs": [
    {
     "name": "stdout",
     "output_type": "stream",
     "text": [
      "AFIB\n",
      "actual: 92.78089887640449\n",
      "dp: 85.04982697645534\n",
      "SB\n",
      "actual: 93.31807662638211\n",
      "dp: 94.97187415597566\n",
      "SA\n",
      "actual: 87.45363408521304\n",
      "dp: 77.09188861773156\n",
      "AF\n",
      "actual: 97.29887640449438\n",
      "dp: 56.5624926888069\n",
      "SR\n",
      "actual: 87.00438116100767\n",
      "dp: 62.41142748736902\n",
      "ST\n",
      "actual: 85.27678571428571\n",
      "dp: 46.406909998053685\n",
      "SVT\n",
      "actual: 96.05451448040886\n",
      "dp: 118.33565765334221\n",
      "AT\n",
      "actual: 88.95867768595042\n",
      "dp: 225.12471095323525\n",
      "AVNRT\n",
      "actual: 89.875\n",
      "dp: 18.0\n",
      "SAAWR\n",
      "actual: 84.85714285714286\n",
      "dp: 256.0\n",
      "AVRT\n",
      "actual: 81.5\n",
      "dp: 18.0\n"
     ]
    }
   ],
   "source": [
    "for arrhytmia in arrhytmia_types:\n",
    "    print(arrhytmia)\n",
    "    print('actual: '+str(np.mean(ecg_df[Y_df==arrhytmia].values[:,QRSDuration_index])))\n",
    "    print('dp: '+str (dp.tools.mean(ecg_df[Y_df==arrhytmia].values[:,QRSDuration_index],bounds=ranges[QRSDuration_index],epsilon=eps_unit)))\n",
    "\n",
    "    "
   ]
  },
  {
   "cell_type": "code",
   "execution_count": null,
   "metadata": {},
   "outputs": [],
   "source": []
  }
 ],
 "metadata": {
  "kernelspec": {
   "display_name": "Python 3",
   "language": "python",
   "name": "python3"
  },
  "language_info": {
   "codemirror_mode": {
    "name": "ipython",
    "version": 3
   },
   "file_extension": ".py",
   "mimetype": "text/x-python",
   "name": "python",
   "nbconvert_exporter": "python",
   "pygments_lexer": "ipython3",
   "version": "3.7.1"
  }
 },
 "nbformat": 4,
 "nbformat_minor": 2
}
