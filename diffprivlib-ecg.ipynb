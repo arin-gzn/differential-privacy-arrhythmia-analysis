{
 "cells": [
  {
   "cell_type": "code",
   "execution_count": 1,
   "metadata": {},
   "outputs": [],
   "source": [
    "from sklearn import datasets\n",
    "from sklearn.model_selection import train_test_split\n",
    "import pandas as pd\n"
   ]
  },
  {
   "cell_type": "code",
   "execution_count": 2,
   "metadata": {},
   "outputs": [],
   "source": [
    "import numpy as np\n",
    "import diffprivlib  as dp\n",
    "import matplotlib.pyplot as plt\n",
    "\n"
   ]
  },
  {
   "cell_type": "markdown",
   "metadata": {},
   "source": [
    "## 1) Estimating the Epsilon\n",
    "\n",
    "##### Implementing the Econmic method from Hsu et al.\n",
    "[J. Hsu et al., \"Differential Privacy: An Economic Method for Choosing Epsilon,\" 2014 IEEE 27th Computer Security Foundations Symposium, Vienna, 2014, pp. 398-410.](https://arxiv.org/pdf/1402.3329.pdf)\n",
    "\n",
    "\n",
    "https://www.cis.upenn.edu/~ahae/talks/epsilon-csf2014.pdf\n",
    "\n",
    "\n",
    "<figure>\n",
    "<img src=\"images/hsu-et-al-equation7.PNG\" />\n",
    "</figure>\n",
    "\n",
    "\n",
    "<figure>\n",
    "<img src=\"images/hsu-et-al-equation8.PNG\"  />\n",
    "</figure>\n"
   ]
  },
  {
   "cell_type": "code",
   "execution_count": 3,
   "metadata": {},
   "outputs": [
    {
     "name": "stdout",
     "output_type": "stream",
     "text": [
      "Particpants' belief on the average cost even if they dont attend: 34.32\n",
      "Feasiable cost per particpant based on our budget: [79.29917783]\n",
      "Is it feasible?[ True]\n"
     ]
    }
   ],
   "source": [
    "import numpy as np\n",
    "import matplotlib.pyplot as plt\n",
    "from scipy.optimize import fsolve\n",
    "\n",
    "\n",
    "B =10000#budget\n",
    "alpha=0.02#probability\n",
    "T=0.08#additive error  +- 8%\n",
    "average_breach_chance=0.08\n",
    "average_breach_cost_US=429\n",
    "E_Patient_Expected_US=average_breach_cost_US*average_breach_chance\n",
    "study_feasable_func = lambda E: np.log( 1+ ((B*pow(T,2))/(12*E*np.log(3/alpha))) )-(T/6)\n",
    "initial_guess = 0.01\n",
    "E_feasiable = fsolve(study_feasable_func, initial_guess)\n",
    "\n",
    "print('Particpants\\' belief on the average cost even if they dont attend: '+str(E_Patient_Expected_US))\n",
    "print ('Feasiable cost per particpant based on our budget: '+str(E_feasiable))\n",
    "print('Is it feasible?'+str(E_feasiable>E_Patient_Expected_US))"
   ]
  },
  {
   "cell_type": "code",
   "execution_count": 4,
   "metadata": {},
   "outputs": [
    {
     "name": "stdout",
     "output_type": "stream",
     "text": [
      "Number of particpants: 9395\n"
     ]
    }
   ],
   "source": [
    "N=(12/pow(T,2))*np.log(3/alpha)\n",
    "print('Number of particpants: '+str(int(N+0.5)))\n"
   ]
  },
  {
   "cell_type": "code",
   "execution_count": 5,
   "metadata": {},
   "outputs": [
    {
     "name": "stdout",
     "output_type": "stream",
     "text": [
      "Epsilon Value: 0.013333333333333334\n"
     ]
    }
   ],
   "source": [
    "total_epsilon_budget=T/6\n",
    "print ('Epsilon Value: '+ str(total_epsilon_budget))"
   ]
  },
  {
   "cell_type": "code",
   "execution_count": 6,
   "metadata": {},
   "outputs": [],
   "source": [
    "# total_epsilon_budget=0.1"
   ]
  },
  {
   "cell_type": "markdown",
   "metadata": {},
   "source": [
    "## 2) Load and Preprocess Data"
   ]
  },
  {
   "cell_type": "code",
   "execution_count": 7,
   "metadata": {},
   "outputs": [
    {
     "data": {
      "text/html": [
       "<div>\n",
       "<style scoped>\n",
       "    .dataframe tbody tr th:only-of-type {\n",
       "        vertical-align: middle;\n",
       "    }\n",
       "\n",
       "    .dataframe tbody tr th {\n",
       "        vertical-align: top;\n",
       "    }\n",
       "\n",
       "    .dataframe thead th {\n",
       "        text-align: right;\n",
       "    }\n",
       "</style>\n",
       "<table border=\"1\" class=\"dataframe\">\n",
       "  <thead>\n",
       "    <tr style=\"text-align: right;\">\n",
       "      <th></th>\n",
       "      <th>FileName</th>\n",
       "      <th>Rhythm</th>\n",
       "      <th>Beat</th>\n",
       "      <th>PatientAge</th>\n",
       "      <th>DateofBirth</th>\n",
       "      <th>Gender</th>\n",
       "      <th>VentricularRate</th>\n",
       "      <th>AtrialRate</th>\n",
       "      <th>QRSDuration</th>\n",
       "      <th>QTInterval</th>\n",
       "      <th>QTCorrected</th>\n",
       "      <th>RAxis</th>\n",
       "      <th>TAxis</th>\n",
       "      <th>QRSCount</th>\n",
       "      <th>QOnset</th>\n",
       "      <th>QOffset</th>\n",
       "      <th>TOffset</th>\n",
       "    </tr>\n",
       "  </thead>\n",
       "  <tbody>\n",
       "    <tr>\n",
       "      <th>0</th>\n",
       "      <td>MUSE_20180113_171327_27000</td>\n",
       "      <td>AFIB</td>\n",
       "      <td>RBBB TWC</td>\n",
       "      <td>85</td>\n",
       "      <td>01-01-1932</td>\n",
       "      <td>MALE</td>\n",
       "      <td>117</td>\n",
       "      <td>234</td>\n",
       "      <td>114</td>\n",
       "      <td>356</td>\n",
       "      <td>496</td>\n",
       "      <td>81</td>\n",
       "      <td>-27</td>\n",
       "      <td>19</td>\n",
       "      <td>208</td>\n",
       "      <td>265</td>\n",
       "      <td>386</td>\n",
       "    </tr>\n",
       "    <tr>\n",
       "      <th>1</th>\n",
       "      <td>MUSE_20180112_073319_29000</td>\n",
       "      <td>SB</td>\n",
       "      <td>TWC</td>\n",
       "      <td>59</td>\n",
       "      <td>01-01-1958</td>\n",
       "      <td>FEMALE</td>\n",
       "      <td>52</td>\n",
       "      <td>52</td>\n",
       "      <td>92</td>\n",
       "      <td>432</td>\n",
       "      <td>401</td>\n",
       "      <td>76</td>\n",
       "      <td>42</td>\n",
       "      <td>8</td>\n",
       "      <td>215</td>\n",
       "      <td>261</td>\n",
       "      <td>431</td>\n",
       "    </tr>\n",
       "    <tr>\n",
       "      <th>2</th>\n",
       "      <td>MUSE_20180111_165520_97000</td>\n",
       "      <td>SA</td>\n",
       "      <td>NONE</td>\n",
       "      <td>20</td>\n",
       "      <td>01-01-1996</td>\n",
       "      <td>FEMALE</td>\n",
       "      <td>67</td>\n",
       "      <td>67</td>\n",
       "      <td>82</td>\n",
       "      <td>382</td>\n",
       "      <td>403</td>\n",
       "      <td>88</td>\n",
       "      <td>20</td>\n",
       "      <td>11</td>\n",
       "      <td>224</td>\n",
       "      <td>265</td>\n",
       "      <td>415</td>\n",
       "    </tr>\n",
       "    <tr>\n",
       "      <th>3</th>\n",
       "      <td>MUSE_20180113_121940_44000</td>\n",
       "      <td>SB</td>\n",
       "      <td>NONE</td>\n",
       "      <td>66</td>\n",
       "      <td>01-01-1951</td>\n",
       "      <td>MALE</td>\n",
       "      <td>53</td>\n",
       "      <td>53</td>\n",
       "      <td>96</td>\n",
       "      <td>456</td>\n",
       "      <td>427</td>\n",
       "      <td>34</td>\n",
       "      <td>3</td>\n",
       "      <td>9</td>\n",
       "      <td>219</td>\n",
       "      <td>267</td>\n",
       "      <td>447</td>\n",
       "    </tr>\n",
       "    <tr>\n",
       "      <th>4</th>\n",
       "      <td>MUSE_20180112_122850_57000</td>\n",
       "      <td>AF</td>\n",
       "      <td>STDD STTC</td>\n",
       "      <td>73</td>\n",
       "      <td>01-01-1943</td>\n",
       "      <td>FEMALE</td>\n",
       "      <td>162</td>\n",
       "      <td>162</td>\n",
       "      <td>114</td>\n",
       "      <td>252</td>\n",
       "      <td>413</td>\n",
       "      <td>68</td>\n",
       "      <td>-40</td>\n",
       "      <td>26</td>\n",
       "      <td>228</td>\n",
       "      <td>285</td>\n",
       "      <td>354</td>\n",
       "    </tr>\n",
       "  </tbody>\n",
       "</table>\n",
       "</div>"
      ],
      "text/plain": [
       "                     FileName Rhythm       Beat  PatientAge DateofBirth  \\\n",
       "0  MUSE_20180113_171327_27000   AFIB   RBBB TWC          85  01-01-1932   \n",
       "1  MUSE_20180112_073319_29000     SB        TWC          59  01-01-1958   \n",
       "2  MUSE_20180111_165520_97000     SA       NONE          20  01-01-1996   \n",
       "3  MUSE_20180113_121940_44000     SB       NONE          66  01-01-1951   \n",
       "4  MUSE_20180112_122850_57000     AF  STDD STTC          73  01-01-1943   \n",
       "\n",
       "   Gender  VentricularRate  AtrialRate  QRSDuration  QTInterval  QTCorrected  \\\n",
       "0    MALE              117         234          114         356          496   \n",
       "1  FEMALE               52          52           92         432          401   \n",
       "2  FEMALE               67          67           82         382          403   \n",
       "3    MALE               53          53           96         456          427   \n",
       "4  FEMALE              162         162          114         252          413   \n",
       "\n",
       "   RAxis  TAxis  QRSCount  QOnset  QOffset  TOffset  \n",
       "0     81    -27        19     208      265      386  \n",
       "1     76     42         8     215      261      431  \n",
       "2     88     20        11     224      265      415  \n",
       "3     34      3         9     219      267      447  \n",
       "4     68    -40        26     228      285      354  "
      ]
     },
     "execution_count": 7,
     "metadata": {},
     "output_type": "execute_result"
    }
   ],
   "source": [
    "ecg_file_input_path='/Users/aring/jupyter/differential-privacy/data/Arno/Diagnostics.xlsx'\n",
    "ecg_df=pd.read_excel(ecg_file_input_path)\n",
    "ecg_df.head()"
   ]
  },
  {
   "cell_type": "code",
   "execution_count": 8,
   "metadata": {},
   "outputs": [
    {
     "data": {
      "text/plain": [
       "(10646, 17)"
      ]
     },
     "execution_count": 8,
     "metadata": {},
     "output_type": "execute_result"
    }
   ],
   "source": [
    "ecg_df.shape"
   ]
  },
  {
   "cell_type": "code",
   "execution_count": 9,
   "metadata": {},
   "outputs": [],
   "source": [
    "Y_df=ecg_df['Rhythm']\n"
   ]
  },
  {
   "cell_type": "code",
   "execution_count": 10,
   "metadata": {},
   "outputs": [
    {
     "data": {
      "text/plain": [
       "array(['AFIB', 'SB', 'SA', 'AF', 'SR', 'ST', 'SVT', 'AT', 'AVNRT',\n",
       "       'SAAWR', 'AVRT'], dtype=object)"
      ]
     },
     "execution_count": 10,
     "metadata": {},
     "output_type": "execute_result"
    }
   ],
   "source": [
    "arrhytmia_types=Y_df.unique()\n",
    "arrhytmia_types"
   ]
  },
  {
   "cell_type": "markdown",
   "metadata": {},
   "source": [
    "## 3) Train Classifier"
   ]
  },
  {
   "cell_type": "markdown",
   "metadata": {},
   "source": [
    "### 3.1) prepare inout data"
   ]
  },
  {
   "cell_type": "code",
   "execution_count": 11,
   "metadata": {},
   "outputs": [],
   "source": [
    "from sklearn import preprocessing\n",
    "\n",
    "labelEncoder = preprocessing.LabelEncoder();\n",
    "encoded_y=labelEncoder.fit_transform(Y_df)"
   ]
  },
  {
   "cell_type": "code",
   "execution_count": 12,
   "metadata": {},
   "outputs": [],
   "source": [
    "ecg_df.drop(['DateofBirth'], axis=1,inplace=True)\n",
    "ecg_df.drop(['Beat'], axis=1,inplace=True)\n",
    "ecg_df.drop(['FileName'], axis=1,inplace=True)\n",
    "ecg_df.drop(['Rhythm'], axis=1,inplace=True)\n"
   ]
  },
  {
   "cell_type": "code",
   "execution_count": 13,
   "metadata": {},
   "outputs": [],
   "source": [
    "ecg_df['Gender_encoded']=ecg_df['Gender'].map({'MALE':0,'FEMALE':1})\n"
   ]
  },
  {
   "cell_type": "code",
   "execution_count": 14,
   "metadata": {},
   "outputs": [],
   "source": [
    "gender_df=ecg_df['Gender_encoded']\n",
    "ecg_df.drop(['Gender'], axis=1,inplace=True)"
   ]
  },
  {
   "cell_type": "code",
   "execution_count": 15,
   "metadata": {},
   "outputs": [],
   "source": [
    "# X_train, X_test, y_train, y_test = train_test_split(ecg_df, encoded_y, test_size=0.2)"
   ]
  },
  {
   "cell_type": "markdown",
   "metadata": {},
   "source": [
    "### 3.2  Calculate ranges/bounds for columns"
   ]
  },
  {
   "cell_type": "code",
   "execution_count": 16,
   "metadata": {},
   "outputs": [],
   "source": [
    "col_names=ecg_df.columns\n",
    "ranges_min=[]\n",
    "ranges_max=[]\n",
    "bounds_for_forest={}\n",
    "for i in range(len(col_names)):\n",
    "    min_val=ecg_df[ecg_df.columns[i]].min()\n",
    "    max_val=ecg_df[ecg_df.columns[i]].max()\n",
    "    ranges_min.append(min_val)\n",
    "    ranges_max.append(max_val)\n",
    "    bounds_for_forest[col_names[i]]=[min_val,max_val]\n",
    "\n",
    "bounds = (ranges_min,ranges_max )"
   ]
  },
  {
   "cell_type": "code",
   "execution_count": 17,
   "metadata": {},
   "outputs": [
    {
     "data": {
      "text/plain": [
       "([4, 34, 0, 18, 114, 219, -89, -89, 5, 159, 249, 281, 0],\n",
       " [98, 263, 535, 256, 736, 760, 270, 270, 40, 240, 331, 582, 1])"
      ]
     },
     "execution_count": 17,
     "metadata": {},
     "output_type": "execute_result"
    }
   ],
   "source": [
    "bounds"
   ]
  },
  {
   "cell_type": "code",
   "execution_count": 18,
   "metadata": {},
   "outputs": [
    {
     "data": {
      "text/plain": [
       "{'PatientAge': [4, 98],\n",
       " 'VentricularRate': [34, 263],\n",
       " 'AtrialRate': [0, 535],\n",
       " 'QRSDuration': [18, 256],\n",
       " 'QTInterval': [114, 736],\n",
       " 'QTCorrected': [219, 760],\n",
       " 'RAxis': [-89, 270],\n",
       " 'TAxis': [-89, 270],\n",
       " 'QRSCount': [5, 40],\n",
       " 'QOnset': [159, 240],\n",
       " 'QOffset': [249, 331],\n",
       " 'TOffset': [281, 582],\n",
       " 'Gender_encoded': [0, 1]}"
      ]
     },
     "execution_count": 18,
     "metadata": {},
     "output_type": "execute_result"
    }
   ],
   "source": [
    "bounds_for_forest"
   ]
  },
  {
   "cell_type": "markdown",
   "metadata": {},
   "source": [
    "### 3.3 Train Naive Bayes Classifier Using Cross validation"
   ]
  },
  {
   "cell_type": "code",
   "execution_count": 19,
   "metadata": {},
   "outputs": [],
   "source": [
    "from sklearn.model_selection import KFold\n",
    "cv = KFold(n_splits=10, random_state=1, shuffle=True)"
   ]
  },
  {
   "cell_type": "code",
   "execution_count": 20,
   "metadata": {},
   "outputs": [
    {
     "name": "stdout",
     "output_type": "stream",
     "text": [
      "Accuracy: 0.742 (0.025)\n"
     ]
    }
   ],
   "source": [
    "#non-difpriv model\n",
    "from sklearn.model_selection import cross_val_score\n",
    "from sklearn.naive_bayes import GaussianNB\n",
    "from numpy import mean,std\n",
    "\n",
    "cv = KFold(n_splits=10, random_state=1, shuffle=True)\n",
    "clf = GaussianNB()\n",
    "\n",
    "# evaluate model\n",
    "scores = cross_val_score(clf, ecg_df, encoded_y, scoring='accuracy', cv=cv, n_jobs=-1)\n",
    "# report performance\n",
    "print('Accuracy: %.3f (%.3f)' % (mean(scores), std(scores)))"
   ]
  },
  {
   "cell_type": "code",
   "execution_count": 21,
   "metadata": {},
   "outputs": [
    {
     "name": "stdout",
     "output_type": "stream",
     "text": [
      "Accuracy: 0.749 (0.018)\n"
     ]
    }
   ],
   "source": [
    "#diff priv model with epsilon 1\n",
    "from diffprivlib.models import GaussianNB\n",
    "\n",
    "\n",
    "    \n",
    "clf = GaussianNB(bounds=bounds,epsilon=100)\n",
    "# evaluate model\n",
    "scores = cross_val_score(clf, ecg_df, encoded_y, scoring='accuracy', cv=cv, n_jobs=-1)\n",
    "# report performance\n",
    "print('Accuracy: %.3f (%.3f)' % (mean(scores), std(scores)))"
   ]
  },
  {
   "cell_type": "markdown",
   "metadata": {},
   "source": [
    "#### 3.3.1) Accuracy of the model across  different epsilon values"
   ]
  },
  {
   "cell_type": "code",
   "execution_count": 22,
   "metadata": {},
   "outputs": [],
   "source": [
    "col_names=ecg_df.columns\n",
    "ranges_min=[]\n",
    "ranges_max=[]\n",
    "for i in range(len(col_names)):\n",
    "    ranges_min.append(ecg_df[ecg_df.columns[i]].min())\n",
    "    ranges_max.append(ecg_df[ecg_df.columns[i]].max())"
   ]
  },
  {
   "cell_type": "code",
   "execution_count": 23,
   "metadata": {},
   "outputs": [
    {
     "data": {
      "image/png": "[encoded data removed]",
      "text/plain": [
       "<Figure size 432x288 with 1 Axes>"
      ]
     },
     "metadata": {
      "needs_background": "light"
     },
     "output_type": "display_data"
    }
   ],
   "source": [
    "import numpy as np\n",
    "import matplotlib.pyplot as plt\n",
    "from diffprivlib.models import GaussianNB\n",
    "\n",
    "epsilons = np.logspace(-2, 2, 50)\n",
    "bounds = (ranges_min,ranges_max )\n",
    "accuracy = list()\n",
    "\n",
    "for epsilon in epsilons:\n",
    "    clf = GaussianNB(bounds=bounds, epsilon=epsilon)\n",
    "    scores = cross_val_score(clf, ecg_df, encoded_y, scoring='accuracy', cv=cv, n_jobs=-1)    \n",
    "    accuracy.append(mean(scores))\n",
    "\n",
    "plt.semilogx(epsilons, accuracy)\n",
    "plt.title(\"Differentially private Naive Bayes\")\n",
    "plt.xlabel(\"epsilon\")\n",
    "plt.ylabel(\"Accuracy\")\n",
    "plt.show()"
   ]
  },
  {
   "cell_type": "markdown",
   "metadata": {},
   "source": [
    "### 3.4) Train Logistic Regression Classifier Using Cross validation"
   ]
  },
  {
   "cell_type": "code",
   "execution_count": 24,
   "metadata": {},
   "outputs": [],
   "source": [
    "import diffprivlib as dp\n",
    "import numpy as np\n",
    "from sklearn.linear_model import LogisticRegression"
   ]
  },
  {
   "cell_type": "code",
   "execution_count": 25,
   "metadata": {},
   "outputs": [
    {
     "name": "stdout",
     "output_type": "stream",
     "text": [
      "Accuracy: 0.758 (0.014)\n"
     ]
    }
   ],
   "source": [
    "\n",
    "#non-difpriv model\n",
    "cv = KFold(n_splits=10, random_state=1, shuffle=True)\n",
    "clf = LogisticRegression()\n",
    "scores = cross_val_score(clf, ecg_df, encoded_y, scoring='accuracy', cv=cv, n_jobs=-1)\n",
    "print('Accuracy: %.3f (%.3f)' % (mean(scores), std(scores)))"
   ]
  },
  {
   "cell_type": "code",
   "execution_count": 26,
   "metadata": {},
   "outputs": [],
   "source": [
    "#diff priv model"
   ]
  },
  {
   "cell_type": "code",
   "execution_count": 27,
   "metadata": {},
   "outputs": [
    {
     "name": "stdout",
     "output_type": "stream",
     "text": [
      "Accuracy: 0.639 (0.035)\n"
     ]
    }
   ],
   "source": [
    "cv = KFold(n_splits=10, random_state=1, shuffle=True)\n",
    "dp_clf = dp.models.LogisticRegression(epsilon = 100)\n",
    "scores = cross_val_score(dp_clf, ecg_df, encoded_y, scoring='accuracy', cv=cv, n_jobs=-1)\n",
    "print('Accuracy: %.3f (%.3f)' % (mean(scores), std(scores)))\n"
   ]
  },
  {
   "cell_type": "markdown",
   "metadata": {},
   "source": [
    "Differntially private LogisticRegression has a data_norm parameter defines the spread of data that will be protected by differential privacy. If not specified, the max norm is taken from the data during the fit operation but will result in revealing information about the data.  The value for data_norm should be selected using the domain knowledge independently of the data.  The model will clipall the examples to have a 2-norm of at most data_norm specified."
   ]
  },
  {
   "cell_type": "code",
   "execution_count": 28,
   "metadata": {},
   "outputs": [
    {
     "name": "stdout",
     "output_type": "stream",
     "text": [
      "l2 of dataframe: 817.887 (46.830)\n",
      "max/min l2: 1214.288 (581.956)\n"
     ]
    }
   ],
   "source": [
    "#checking l2 norm in our data\n",
    "l2_of_all_rows=np.apply_along_axis(np.linalg.norm, 1, ecg_df)\n",
    "print('l2 of dataframe: %.3f (%.3f)' % (mean(l2_of_all_rows), std(l2_of_all_rows)))\n",
    "print('max/min l2: %.3f (%.3f)' % (max(l2_of_all_rows), min(l2_of_all_rows)))"
   ]
  },
  {
   "cell_type": "code",
   "execution_count": 29,
   "metadata": {},
   "outputs": [
    {
     "data": {
      "image/png": "[encoded data removed]",
      "text/plain": [
       "<Figure size 432x288 with 1 Axes>"
      ]
     },
     "metadata": {
      "needs_background": "light"
     },
     "output_type": "display_data"
    }
   ],
   "source": [
    "hist, bins = np.histogram(l2_of_all_rows)\n",
    "plt.bar(bins[:-1], hist, width=(bins[1]-bins[0]) * 0.9)\n",
    "plt.show()"
   ]
  },
  {
   "cell_type": "code",
   "execution_count": 30,
   "metadata": {},
   "outputs": [
    {
     "name": "stdout",
     "output_type": "stream",
     "text": [
      "Accuracy: 0.636 (0.015)\n"
     ]
    }
   ],
   "source": [
    "# with norm clipping\n",
    "cv = KFold(n_splits=10, random_state=1, shuffle=True)\n",
    "dp_clf = dp.models.LogisticRegression(epsilon = 100,data_norm=950)\n",
    "scores = cross_val_score(dp_clf, ecg_df, encoded_y, scoring='accuracy', cv=cv, n_jobs=-1)\n",
    "print('Accuracy: %.3f (%.3f)' % (mean(scores), std(scores)))\n"
   ]
  },
  {
   "cell_type": "markdown",
   "metadata": {},
   "source": [
    "#### cross validation"
   ]
  },
  {
   "cell_type": "code",
   "execution_count": 31,
   "metadata": {},
   "outputs": [
    {
     "data": {
      "image/png": "[encoded data removed]",
      "text/plain": [
       "<Figure size 432x288 with 1 Axes>"
      ]
     },
     "metadata": {
      "needs_background": "light"
     },
     "output_type": "display_data"
    }
   ],
   "source": [
    "import numpy as np\n",
    "import matplotlib.pyplot as plt\n",
    "from diffprivlib.models import GaussianNB\n",
    "\n",
    "epsilons = np.logspace(-2, 2, 50)\n",
    "bounds = (ranges_min,ranges_max )\n",
    "accuracy = list()\n",
    "\n",
    "for epsilon in epsilons:\n",
    "    clf = dp.models.LogisticRegression(epsilon = epsilon,data_norm=950)\n",
    "    scores = cross_val_score(clf, ecg_df, encoded_y, scoring='accuracy', cv=cv, n_jobs=-1)    \n",
    "    accuracy.append(mean(scores))\n",
    "\n",
    "plt.semilogx(epsilons, accuracy)\n",
    "plt.title(\"Differentially private logistic regression\")\n",
    "plt.xlabel(\"epsilon\")\n",
    "plt.ylabel(\"Accuracy\")\n",
    "plt.show()"
   ]
  },
  {
   "cell_type": "markdown",
   "metadata": {},
   "source": [
    "### 3.5) Random Forest"
   ]
  },
  {
   "cell_type": "code",
   "execution_count": 32,
   "metadata": {},
   "outputs": [
    {
     "ename": "ModuleNotFoundError",
     "evalue": "No module named 'diffprivlib.models.forest'",
     "output_type": "error",
     "traceback": [
      "\u001b[0;31m---------------------------------------------------------------------------\u001b[0m",
      "\u001b[0;31mModuleNotFoundError\u001b[0m                       Traceback (most recent call last)",
      "\u001b[0;32m<ipython-input-32-1c8b6979f380>\u001b[0m in \u001b[0;36m<module>\u001b[0;34m\u001b[0m\n\u001b[1;32m      1\u001b[0m \u001b[0;31m# this requires newer version of the library\u001b[0m\u001b[0;34m\u001b[0m\u001b[0;34m\u001b[0m\u001b[0;34m\u001b[0m\u001b[0m\n\u001b[0;32m----> 2\u001b[0;31m \u001b[0;32mfrom\u001b[0m \u001b[0mdiffprivlib\u001b[0m\u001b[0;34m.\u001b[0m\u001b[0mmodels\u001b[0m\u001b[0;34m.\u001b[0m\u001b[0mforest\u001b[0m \u001b[0;32mimport\u001b[0m \u001b[0mRandomForestClassifier\u001b[0m\u001b[0;34m\u001b[0m\u001b[0;34m\u001b[0m\u001b[0m\n\u001b[0m\u001b[1;32m      3\u001b[0m \u001b[0;34m\u001b[0m\u001b[0m\n\u001b[1;32m      4\u001b[0m \u001b[0;34m\u001b[0m\u001b[0m\n\u001b[1;32m      5\u001b[0m \u001b[0;34m\u001b[0m\u001b[0m\n",
      "\u001b[0;31mModuleNotFoundError\u001b[0m: No module named 'diffprivlib.models.forest'"
     ]
    }
   ],
   "source": [
    "# this requires newer version of the library\n",
    "from diffprivlib.models.forest import RandomForestClassifier\n",
    "\n",
    "\n",
    "\n",
    "cv = KFold(n_splits=10, random_state=1, shuffle=True)\n",
    "dp_clf = RandomForestClassifier(epsilon=10, n_estimators=5, random_state=1000, cat_feature_threshold=2,\n",
    "                                       feature_domains=bounds_for_forest)\n",
    "scores = cross_val_score(dp_clf, ecg_df, encoded_y, scoring='accuracy', cv=cv, n_jobs=-1)\n",
    "print('Accuracy: %.3f (%.3f)' % (mean(scores), std(scores)))\n"
   ]
  },
  {
   "cell_type": "markdown",
   "metadata": {},
   "source": [
    "## 4) Histogram Analysis\n",
    "### 4.1) Age Distributoin\n"
   ]
  },
  {
   "cell_type": "code",
   "execution_count": 236,
   "metadata": {},
   "outputs": [],
   "source": [
    "total_epsilon_budget=0.2"
   ]
  },
  {
   "cell_type": "code",
   "execution_count": 237,
   "metadata": {},
   "outputs": [
    {
     "data": {
      "text/plain": [
       "1.2214027581601699"
      ]
     },
     "execution_count": 237,
     "metadata": {},
     "output_type": "execute_result"
    }
   ],
   "source": [
    "import math\n",
    "\n",
    "math.exp( total_epsilon_budget )"
   ]
  },
  {
   "cell_type": "code",
   "execution_count": 87,
   "metadata": {},
   "outputs": [],
   "source": [
    "epsilon_per_histogram=total_epsilon_budget/14"
   ]
  },
  {
   "cell_type": "code",
   "execution_count": 88,
   "metadata": {},
   "outputs": [
    {
     "data": {
      "text/plain": [
       "0.014285714285714287"
      ]
     },
     "execution_count": 88,
     "metadata": {},
     "output_type": "execute_result"
    }
   ],
   "source": [
    "epsilon_per_histogram"
   ]
  },
  {
   "cell_type": "code",
   "execution_count": 89,
   "metadata": {},
   "outputs": [],
   "source": [
    "ages=ecg_df['PatientAge']\n",
    "hist, bins = np.histogram(ages)\n",
    "# hist = hist / hist.sum()"
   ]
  },
  {
   "cell_type": "code",
   "execution_count": 90,
   "metadata": {},
   "outputs": [
    {
     "data": {
      "image/png": "[encoded data removed]",
      "text/plain": [
       "<Figure size 432x288 with 1 Axes>"
      ]
     },
     "metadata": {
      "needs_background": "light"
     },
     "output_type": "display_data"
    }
   ],
   "source": [
    "# actual\n",
    "plt.bar(bins[:-1], hist, width=(bins[1]-bins[0]) * 0.9)\n",
    "plt.show()"
   ]
  },
  {
   "cell_type": "markdown",
   "metadata": {},
   "source": [
    "We know from the dataset description that everyone in the dataset is between 4-98 years. We should set the range tto the general bound of this attribute. we'll set the upper bound to 100, As of 2019, less than 0.005% of the world's population is aged over 100. Values above 100 will be excluded from calculations."
   ]
  },
  {
   "cell_type": "code",
   "execution_count": 91,
   "metadata": {},
   "outputs": [
    {
     "data": {
      "image/png": "[encoded data removed]",
      "text/plain": [
       "<Figure size 432x288 with 1 Axes>"
      ]
     },
     "metadata": {
      "needs_background": "light"
     },
     "output_type": "display_data"
    }
   ],
   "source": [
    "#diff priv histogram\n",
    "dp_hist, dp_bins = dp.tools.histogram(ages, epsilon=epsilon_per_histogram, range=(0, 100))\n",
    "# dp_hist = dp_hist / dp_hist.sum()\n",
    "\n",
    "plt.bar(dp_bins[:-1], dp_hist, width=(dp_bins[1] - dp_bins[0]) * 0.9)\n",
    "plt.show()"
   ]
  },
  {
   "cell_type": "code",
   "execution_count": 92,
   "metadata": {},
   "outputs": [
    {
     "name": "stdout",
     "output_type": "stream",
     "text": [
      "Total histogram error: 1003.000000\n"
     ]
    }
   ],
   "source": [
    "print(\"Total histogram error: %f\" % np.abs(hist - dp_hist).sum())\n"
   ]
  },
  {
   "cell_type": "code",
   "execution_count": 93,
   "metadata": {},
   "outputs": [
    {
     "data": {
      "text/plain": [
       "False"
      ]
     },
     "execution_count": 93,
     "metadata": {},
     "output_type": "execute_result"
    }
   ],
   "source": [
    "np.all(dp_bins == bins)\n"
   ]
  },
  {
   "cell_type": "markdown",
   "metadata": {},
   "source": [
    "### 4.2) Gender Distribution"
   ]
  },
  {
   "cell_type": "code",
   "execution_count": 94,
   "metadata": {},
   "outputs": [
    {
     "data": {
      "image/png": "[encoded data removed]",
      "text/plain": [
       "<Figure size 432x288 with 1 Axes>"
      ]
     },
     "metadata": {
      "needs_background": "light"
     },
     "output_type": "display_data"
    }
   ],
   "source": [
    "#actual\n",
    "hist, bins = np.histogram(gender_df,bins=2)\n",
    "# hist = hist / hist.sum()\n",
    "plt.bar(bins[:-1], hist, width=(bins[1]-bins[0]) * 0.9)\n",
    "plt.xticks( bins, ['male','female'])\n",
    "plt.show()\n",
    "\n",
    "# categorical_features = [\"male\", \"female\"]\n",
    "# gender_df.map({0: \"male\", 1: \"female\"}).value_counts().plot(kind='bar')\n"
   ]
  },
  {
   "cell_type": "code",
   "execution_count": 95,
   "metadata": {},
   "outputs": [
    {
     "name": "stderr",
     "output_type": "stream",
     "text": [
      "/anaconda3/lib/python3.7/site-packages/diffprivlib/tools/histograms.py:132: PrivacyLeakWarning: Range parameter has not been specified. Falling back to taking range from the data.\n",
      "To ensure differential privacy, and no additional privacy leakage, the range must be specified independently of the data (i.e., using domain knowledge).\n",
      "  \"specified independently of the data (i.e., using domain knowledge).\", PrivacyLeakWarning)\n"
     ]
    },
    {
     "data": {
      "image/png": "[encoded data removed]",
      "text/plain": [
       "<Figure size 432x288 with 1 Axes>"
      ]
     },
     "metadata": {
      "needs_background": "light"
     },
     "output_type": "display_data"
    }
   ],
   "source": [
    "#diff priv\n",
    "dp_hist, dp_bins = dp.tools.histogram(gender_df, epsilon=epsilon_per_histogram,bins=2)\n",
    "# dp_hist = dp_hist / dp_hist.sum()\n",
    "\n",
    "plt.bar(dp_bins[:-1], dp_hist, width=(dp_bins[1] - dp_bins[0]) * 0.9)\n",
    "plt.xticks( bins, ['male','female'])\n",
    "\n",
    "plt.show()\n"
   ]
  },
  {
   "cell_type": "code",
   "execution_count": 96,
   "metadata": {},
   "outputs": [
    {
     "data": {
      "text/plain": [
       "True"
      ]
     },
     "execution_count": 96,
     "metadata": {},
     "output_type": "execute_result"
    }
   ],
   "source": [
    "np.all(dp_bins == bins)\n"
   ]
  },
  {
   "cell_type": "code",
   "execution_count": 97,
   "metadata": {},
   "outputs": [
    {
     "name": "stdout",
     "output_type": "stream",
     "text": [
      "Total histogram error: 32.000000\n"
     ]
    }
   ],
   "source": [
    "print(\"Total histogram error: %f\" % np.abs(hist - dp_hist).sum())\n"
   ]
  },
  {
   "cell_type": "markdown",
   "metadata": {},
   "source": [
    "### 4.3) Finding the range of the values"
   ]
  },
  {
   "cell_type": "code",
   "execution_count": 98,
   "metadata": {},
   "outputs": [],
   "source": [
    "col_names=ecg_df.columns\n",
    "ranges=[]\n",
    "for i in range(len(col_names)):\n",
    "    ranges.append((ecg_df[ecg_df.columns[i]].min(),ecg_df[ecg_df.columns[i]].max()))"
   ]
  },
  {
   "cell_type": "code",
   "execution_count": 99,
   "metadata": {},
   "outputs": [
    {
     "data": {
      "text/plain": [
       "Index(['PatientAge', 'VentricularRate', 'AtrialRate', 'QRSDuration',\n",
       "       'QTInterval', 'QTCorrected', 'RAxis', 'TAxis', 'QRSCount', 'QOnset',\n",
       "       'QOffset', 'TOffset', 'Gender_encoded'],\n",
       "      dtype='object')"
      ]
     },
     "execution_count": 99,
     "metadata": {},
     "output_type": "execute_result"
    }
   ],
   "source": [
    "col_names"
   ]
  },
  {
   "cell_type": "code",
   "execution_count": 100,
   "metadata": {},
   "outputs": [
    {
     "data": {
      "text/plain": [
       "[(4, 98),\n",
       " (34, 263),\n",
       " (0, 535),\n",
       " (18, 256),\n",
       " (114, 736),\n",
       " (219, 760),\n",
       " (-89, 270),\n",
       " (-89, 270),\n",
       " (5, 40),\n",
       " (159, 240),\n",
       " (249, 331),\n",
       " (281, 582),\n",
       " (0, 1)]"
      ]
     },
     "execution_count": 100,
     "metadata": {},
     "output_type": "execute_result"
    }
   ],
   "source": [
    "ranges"
   ]
  },
  {
   "cell_type": "code",
   "execution_count": 101,
   "metadata": {},
   "outputs": [],
   "source": [
    "VentricularRate_index=1\n",
    "QRSDuration_index=3\n",
    "QTInterval_index=4\n",
    "AtrialRat_indexe=2\n",
    "\n"
   ]
  },
  {
   "cell_type": "markdown",
   "metadata": {},
   "source": [
    "### 4.4) Distribution of ECG measurment variables"
   ]
  },
  {
   "cell_type": "markdown",
   "metadata": {},
   "source": [
    "##### actual Distribution"
   ]
  },
  {
   "cell_type": "code",
   "execution_count": 102,
   "metadata": {},
   "outputs": [
    {
     "data": {
      "image/png": "[encoded data removed]",
      "text/plain": [
       "<Figure size 1152x936 with 11 Axes>"
      ]
     },
     "metadata": {
      "needs_background": "light"
     },
     "output_type": "display_data"
    }
   ],
   "source": [
    "col_names=ecg_df.columns\n",
    "\n",
    "n_examples = ecg_df.shape[0]\n",
    "\n",
    "fig, axs = plt.subplots(4, 3, sharey=True, figsize=(16, 13))\n",
    "fig.subplots_adjust(hspace=0.35)\n",
    "\n",
    "for i in range(1,12):\n",
    "    ax = axs.flat[i-1]\n",
    "    ax.set_title(col_names[i])\n",
    "    _range = ranges[i]\n",
    "    n_bins = 20\n",
    "    \n",
    "\n",
    "    bar_width = (_range[1] - _range[0]) / n_bins * 0.9\n",
    "    \n",
    "    hist, bins = np.histogram(ecg_df.iloc[:, i], bins=n_bins, range=_range)\n",
    "    ax.bar(bins[:-1] + np.diff(bins), hist , width=bar_width)\n",
    "#     ax.set_ylim(0, 1)\n",
    "fig.delaxes(axs[3,2])\n",
    "\n",
    "plt.show()"
   ]
  },
  {
   "cell_type": "markdown",
   "metadata": {},
   "source": [
    "#### Diff priv model"
   ]
  },
  {
   "cell_type": "code",
   "execution_count": 103,
   "metadata": {},
   "outputs": [
    {
     "data": {
      "image/png": "[encoded data removed]",
      "text/plain": [
       "<Figure size 1152x936 with 11 Axes>"
      ]
     },
     "metadata": {
      "needs_background": "light"
     },
     "output_type": "display_data"
    }
   ],
   "source": [
    "# ecg_df_no_gender=ecg_df.drop(['Rhythm'], axis=1)\n",
    "\n",
    "col_names=ecg_df.columns\n",
    "\n",
    "n_examples = ecg_df.shape[0]\n",
    "\n",
    "fig, axs = plt.subplots(4, 3, sharey=True, figsize=(16, 13))\n",
    "fig.subplots_adjust(hspace=0.35)\n",
    "\n",
    "for i in range(1,12):\n",
    "    ax = axs.flat[i-1]\n",
    "    ax.set_title(col_names[i])\n",
    "    _range = ranges[i]\n",
    "    n_bins = 20\n",
    "    \n",
    "\n",
    "    bar_width = (_range[1] - _range[0]) / n_bins * 0.9\n",
    "    \n",
    "    hist, bins = dp.tools.histogram(ecg_df.iloc[:, i], bins=n_bins, range=_range, epsilon=epsilon_per_histogram)\n",
    "    ax.bar(bins[:-1] + np.diff(bins), hist , width=bar_width)\n",
    "#     ax.set_ylim(0, 1)\n",
    "fig.delaxes(axs[3,2])\n",
    "plt.show()"
   ]
  },
  {
   "cell_type": "markdown",
   "metadata": {},
   "source": [
    "#### 4.5) Disease distribution"
   ]
  },
  {
   "cell_type": "code",
   "execution_count": 104,
   "metadata": {},
   "outputs": [
    {
     "data": {
      "text/plain": [
       "array(['AFIB', 'SB', 'SA', 'AF', 'SR', 'ST', 'SVT', 'AT', 'AVNRT',\n",
       "       'SAAWR', 'AVRT'], dtype=object)"
      ]
     },
     "execution_count": 104,
     "metadata": {},
     "output_type": "execute_result"
    }
   ],
   "source": [
    "Y_df.unique()"
   ]
  },
  {
   "cell_type": "code",
   "execution_count": 105,
   "metadata": {},
   "outputs": [],
   "source": [
    "Y_df_nums=Y_df.map({'AFIB':0, 'SB':1, 'SA':2, 'AF':3, 'SR':4, 'ST':5, 'SVT':6, 'AT':7, 'AVNRT':8,\n",
    "       'SAAWR':9, 'AVRT':10})\n"
   ]
  },
  {
   "cell_type": "code",
   "execution_count": 106,
   "metadata": {},
   "outputs": [
    {
     "data": {
      "image/png": "[encoded data removed]",
      "text/plain": [
       "<Figure size 432x288 with 1 Axes>"
      ]
     },
     "metadata": {
      "needs_background": "light"
     },
     "output_type": "display_data"
    }
   ],
   "source": [
    "#actual\n",
    "hist, bins = np.histogram(Y_df_nums,bins=11)\n",
    "# hist = hist / hist.sum()\n",
    "plt.bar(bins[:-1], hist)\n",
    "plt.xticks( bins, ['AFIB', 'SB', 'SA', 'AF', 'SR', 'ST', 'SVT', 'AT', 'AVNRT','SAAWR', 'AVRT'], rotation='vertical')\n",
    "plt.show()\n",
    "\n",
    "\n",
    "\n",
    "plt.show()"
   ]
  },
  {
   "cell_type": "code",
   "execution_count": 107,
   "metadata": {},
   "outputs": [
    {
     "name": "stderr",
     "output_type": "stream",
     "text": [
      "/anaconda3/lib/python3.7/site-packages/diffprivlib/tools/histograms.py:132: PrivacyLeakWarning: Range parameter has not been specified. Falling back to taking range from the data.\n",
      "To ensure differential privacy, and no additional privacy leakage, the range must be specified independently of the data (i.e., using domain knowledge).\n",
      "  \"specified independently of the data (i.e., using domain knowledge).\", PrivacyLeakWarning)\n"
     ]
    },
    {
     "data": {
      "image/png": "[encoded data removed]",
      "text/plain": [
       "<Figure size 432x288 with 1 Axes>"
      ]
     },
     "metadata": {
      "needs_background": "light"
     },
     "output_type": "display_data"
    }
   ],
   "source": [
    "#difpriv\n",
    "\n",
    "hist, bins = dp.tools.histogram(Y_df_nums, bins=11, epsilon=epsilon_per_histogram)\n",
    "plt.bar(bins[:-1], hist)\n",
    "plt.xticks( bins, ['AFIB', 'SB', 'SA', 'AF', 'SR', 'ST', 'SVT', 'AT', 'AVNRT','SAAWR', 'AVRT'], rotation='vertical')\n",
    "plt.show()\n"
   ]
  },
  {
   "cell_type": "markdown",
   "metadata": {},
   "source": [
    "## 5) Publishing A Differntially Private Report on ECG measurement differences across groups"
   ]
  },
  {
   "cell_type": "markdown",
   "metadata": {},
   "source": [
    "### 5.1) Mean values report"
   ]
  },
  {
   "cell_type": "markdown",
   "metadata": {},
   "source": [
    "#### 5.1.1)  Allocating the Privacy Budget"
   ]
  },
  {
   "cell_type": "code",
   "execution_count": 108,
   "metadata": {},
   "outputs": [],
   "source": [
    "total_epsilon_budget=0.2\n",
    "\n",
    "acc = dp.BudgetAccountant(total_epsilon_budget, 0)\n",
    "acc.set_default()\n",
    "\n",
    "eps_unit=total_epsilon_budget/8\n",
    "\n",
    "\n",
    "VentricularRate_index=1\n",
    "QRSDuration_index=3\n",
    "QTInterval_index=4\n",
    "AtrialRat_indexe=2"
   ]
  },
  {
   "cell_type": "code",
   "execution_count": 109,
   "metadata": {},
   "outputs": [
    {
     "data": {
      "text/plain": [
       "0.025"
      ]
     },
     "execution_count": 109,
     "metadata": {},
     "output_type": "execute_result"
    }
   ],
   "source": [
    "eps_unit"
   ]
  },
  {
   "cell_type": "markdown",
   "metadata": {},
   "source": [
    "#### 5.1.2)  QRS Duration gender differences"
   ]
  },
  {
   "cell_type": "code",
   "execution_count": 110,
   "metadata": {},
   "outputs": [
    {
     "data": {
      "text/plain": [
       "95.46865928993867"
      ]
     },
     "execution_count": 110,
     "metadata": {},
     "output_type": "execute_result"
    }
   ],
   "source": [
    "dp.tools.mean(ecg_df[ecg_df['Gender_encoded']==0].values[:,QRSDuration_index],bounds=ranges[QRSDuration_index],epsilon=eps_unit*2)\n"
   ]
  },
  {
   "cell_type": "code",
   "execution_count": 111,
   "metadata": {},
   "outputs": [
    {
     "data": {
      "text/plain": [
       "85.20275877526821"
      ]
     },
     "execution_count": 111,
     "metadata": {},
     "output_type": "execute_result"
    }
   ],
   "source": [
    "dp.tools.mean(ecg_df[ecg_df['Gender_encoded']==1].values[:,QRSDuration_index],bounds=ranges[QRSDuration_index],epsilon=eps_unit*2)\n"
   ]
  },
  {
   "cell_type": "markdown",
   "metadata": {},
   "source": [
    "#### Actuals"
   ]
  },
  {
   "cell_type": "code",
   "execution_count": 112,
   "metadata": {},
   "outputs": [
    {
     "data": {
      "text/plain": [
       "95.16218938885157"
      ]
     },
     "execution_count": 112,
     "metadata": {},
     "output_type": "execute_result"
    }
   ],
   "source": [
    "np.mean(ecg_df[ecg_df['Gender_encoded']==0].values[:,QRSDuration_index])\n"
   ]
  },
  {
   "cell_type": "code",
   "execution_count": 113,
   "metadata": {},
   "outputs": [
    {
     "data": {
      "text/plain": [
       "85.68997867803839"
      ]
     },
     "execution_count": 113,
     "metadata": {},
     "output_type": "execute_result"
    }
   ],
   "source": [
    "np.mean(ecg_df[ecg_df['Gender_encoded']==1].values[:,QRSDuration_index])\n"
   ]
  },
  {
   "cell_type": "markdown",
   "metadata": {},
   "source": [
    "#### 5.1.3) Ventricular rate Duration gender differences"
   ]
  },
  {
   "cell_type": "code",
   "execution_count": 114,
   "metadata": {},
   "outputs": [
    {
     "data": {
      "text/plain": [
       "79.78337032587307"
      ]
     },
     "execution_count": 114,
     "metadata": {},
     "output_type": "execute_result"
    }
   ],
   "source": [
    "dp.tools.mean(ecg_df[ecg_df['Gender_encoded']==0].values[:,VentricularRate_index],bounds=ranges[VentricularRate_index],epsilon=eps_unit)\n"
   ]
  },
  {
   "cell_type": "code",
   "execution_count": 115,
   "metadata": {},
   "outputs": [
    {
     "data": {
      "text/plain": [
       "89.26436679309816"
      ]
     },
     "execution_count": 115,
     "metadata": {},
     "output_type": "execute_result"
    }
   ],
   "source": [
    "dp.tools.mean(ecg_df[ecg_df['Gender_encoded']==1].values[:,VentricularRate_index],bounds=ranges[VentricularRate_index],epsilon=eps_unit)\n"
   ]
  },
  {
   "cell_type": "markdown",
   "metadata": {},
   "source": [
    "#### Actuals"
   ]
  },
  {
   "cell_type": "code",
   "execution_count": 116,
   "metadata": {},
   "outputs": [
    {
     "data": {
      "text/plain": [
       "81.26108126259234"
      ]
     },
     "execution_count": 116,
     "metadata": {},
     "output_type": "execute_result"
    }
   ],
   "source": [
    "np.mean(ecg_df[ecg_df['Gender_encoded']==0].values[:,VentricularRate_index])\n"
   ]
  },
  {
   "cell_type": "code",
   "execution_count": 117,
   "metadata": {},
   "outputs": [
    {
     "data": {
      "text/plain": [
       "87.78720682302772"
      ]
     },
     "execution_count": 117,
     "metadata": {},
     "output_type": "execute_result"
    }
   ],
   "source": [
    "np.mean(ecg_df[ecg_df['Gender_encoded']==1].values[:,VentricularRate_index])\n"
   ]
  },
  {
   "cell_type": "markdown",
   "metadata": {},
   "source": [
    "#### 5.1.4) QTInterval  Duration gender differences"
   ]
  },
  {
   "cell_type": "code",
   "execution_count": 118,
   "metadata": {},
   "outputs": [
    {
     "data": {
      "text/plain": [
       "388.2606901421914"
      ]
     },
     "execution_count": 118,
     "metadata": {},
     "output_type": "execute_result"
    }
   ],
   "source": [
    "dp.tools.mean(ecg_df[ecg_df['Gender_encoded']==0].values[:,QTInterval_index],bounds=ranges[QTInterval_index],epsilon=eps_unit)\n"
   ]
  },
  {
   "cell_type": "code",
   "execution_count": 119,
   "metadata": {},
   "outputs": [
    {
     "data": {
      "text/plain": [
       "376.86979205603996"
      ]
     },
     "execution_count": 119,
     "metadata": {},
     "output_type": "execute_result"
    }
   ],
   "source": [
    "dp.tools.mean(ecg_df[ecg_df['Gender_encoded']==1].values[:,QTInterval_index],bounds=ranges[QTInterval_index],epsilon=eps_unit)\n"
   ]
  },
  {
   "cell_type": "markdown",
   "metadata": {},
   "source": [
    "#### Actuals"
   ]
  },
  {
   "cell_type": "code",
   "execution_count": 120,
   "metadata": {},
   "outputs": [
    {
     "data": {
      "text/plain": [
       "386.42209536601746"
      ]
     },
     "execution_count": 120,
     "metadata": {},
     "output_type": "execute_result"
    }
   ],
   "source": [
    "np.mean(ecg_df[ecg_df['Gender_encoded']==0].values[:,QTInterval_index])\n"
   ]
  },
  {
   "cell_type": "code",
   "execution_count": 121,
   "metadata": {},
   "outputs": [
    {
     "data": {
      "text/plain": [
       "381.26652452025587"
      ]
     },
     "execution_count": 121,
     "metadata": {},
     "output_type": "execute_result"
    }
   ],
   "source": [
    "np.mean(ecg_df[ecg_df['Gender_encoded']==1].values[:,QTInterval_index])\n"
   ]
  },
  {
   "cell_type": "code",
   "execution_count": 122,
   "metadata": {},
   "outputs": [
    {
     "data": {
      "text/plain": [
       "(epsilon=2.2204460492503132e-17, delta=0.0)"
      ]
     },
     "execution_count": 122,
     "metadata": {},
     "output_type": "execute_result"
    }
   ],
   "source": [
    "acc.remaining()"
   ]
  },
  {
   "cell_type": "code",
   "execution_count": 123,
   "metadata": {},
   "outputs": [
    {
     "data": {
      "text/plain": [
       "<bound method BudgetAccountant.total of BudgetAccountant(epsilon=0.2, delta=0, spent_budget=[(0.05, 0), (0.05, 0), (0.025, 0), (0.025, 0), (0.025, 0), ...])>"
      ]
     },
     "execution_count": 123,
     "metadata": {},
     "output_type": "execute_result"
    }
   ],
   "source": [
    "acc.total"
   ]
  },
  {
   "cell_type": "code",
   "execution_count": 124,
   "metadata": {},
   "outputs": [
    {
     "data": {
      "text/plain": [
       "(114, 736)"
      ]
     },
     "execution_count": 124,
     "metadata": {},
     "output_type": "execute_result"
    }
   ],
   "source": [
    "ranges[QTInterval_index]"
   ]
  },
  {
   "cell_type": "markdown",
   "metadata": {},
   "source": [
    "#### 5.1.5) QRS duration changes in Arrhythmias\n"
   ]
  },
  {
   "cell_type": "code",
   "execution_count": 125,
   "metadata": {},
   "outputs": [],
   "source": [
    "\n",
    "VentricularRate_index=1\n",
    "QRSDuration_index=3\n",
    "QTInterval_index=4\n",
    "AtrialRat_indexe=2"
   ]
  },
  {
   "cell_type": "code",
   "execution_count": 136,
   "metadata": {},
   "outputs": [],
   "source": [
    "rhythm_fullname_mapping={'SB':'Sinus Bradycardia','SR':'Sinus Rhythm','AFIB':'Atrial Fibrillation',\n",
    "                         'ST':'Sinus Tachycardia','AF':'Atrial Flutter','SA':'Sinus Irregularity',\n",
    "                         'SVT':'Supraventricular Tachycardia','AT':'Atrial Tachycardia',\n",
    "                         'AVNRT':'Atrioventricular Node Reentrant Tachycardia',\n",
    "                         'AVRT':'Atrioventricular Reentrant Tachycardia',\n",
    "                        'SAAWR':'Sinus Atrium to Atrial Wandering Rhythm'}"
   ]
  },
  {
   "cell_type": "code",
   "execution_count": 146,
   "metadata": {},
   "outputs": [],
   "source": [
    "#actuals\n",
    "actuals={}\n",
    "for arrhytmia in arrhytmia_types:\n",
    "       actuals[rhythm_fullname_mapping[arrhytmia]]=np.mean(ecg_df[Y_df==arrhytmia].values[:,QRSDuration_index])\n",
    "\n"
   ]
  },
  {
   "cell_type": "code",
   "execution_count": 150,
   "metadata": {},
   "outputs": [
    {
     "name": "stdout",
     "output_type": "stream",
     "text": [
      "Atrial Fibrillation& 92.7809\\\\ \\hline\n",
      "Sinus Bradycardia& 93.3181\\\\ \\hline\n",
      "Sinus Irregularity& 87.4536\\\\ \\hline\n",
      "Atrial Flutter& 97.2989\\\\ \\hline\n",
      "Sinus Rhythm& 87.0044\\\\ \\hline\n",
      "Sinus Tachycardia& 85.2768\\\\ \\hline\n",
      "Supraventricular Tachycardia& 96.0545\\\\ \\hline\n",
      "Atrial Tachycardia& 88.9587\\\\ \\hline\n",
      "Atrioventricular Node Reentrant Tachycardia& 89.8750\\\\ \\hline\n",
      "Sinus Atrium to Atrial Wandering Rhythm& 84.8571\\\\ \\hline\n",
      "Atrioventricular Reentrant Tachycardia& 81.5000\\\\ \\hline\n"
     ]
    }
   ],
   "source": [
    "\n",
    "for arrhytmia in arrhytmia_types:\n",
    "    print (f'{rhythm_fullname_mapping[arrhytmia]}&{actuals[rhythm_fullname_mapping[arrhytmia]]: 0.4f}\\\\\\\\ \\\\hline')"
   ]
  },
  {
   "cell_type": "code",
   "execution_count": 143,
   "metadata": {},
   "outputs": [],
   "source": [
    "dp_means=[]\n",
    "num_of_runs=2\n",
    "for i in range(num_of_runs):\n",
    "    total_epsilon_budget=0.2\n",
    "    acc = dp.BudgetAccountant(total_epsilon_budget, 0)\n",
    "    acc.set_default()\n",
    "    eps_unit=total_epsilon_budget/11\n",
    "    run={}\n",
    "    for arrhytmia in arrhytmia_types:\n",
    "        if acc.remaining()[0]<eps_unit:\n",
    "            eps_unit=acc.remaining()[0]\n",
    "        run[rhythm_fullname_mapping[arrhytmia]]=dp.tools.mean(ecg_df[Y_df==arrhytmia].values[:,QRSDuration_index],bounds=ranges[QRSDuration_index],epsilon=eps_unit)\n",
    "    dp_means.append(run)\n",
    "        \n",
    "        \n",
    "\n",
    "    "
   ]
  },
  {
   "cell_type": "code",
   "execution_count": 151,
   "metadata": {},
   "outputs": [
    {
     "name": "stdout",
     "output_type": "stream",
     "text": [
      "Atrial Fibrillation& 100.3062& 81.6582\\\\ \\hline\n",
      "Sinus Bradycardia& 93.4313& 92.2033\\\\ \\hline\n",
      "Sinus Irregularity& 18.0000& 145.1477\\\\ \\hline\n",
      "Atrial Flutter& 127.7923& 176.5641\\\\ \\hline\n",
      "Sinus Rhythm& 87.8604& 92.4898\\\\ \\hline\n",
      "Sinus Tachycardia& 76.0064& 87.0250\\\\ \\hline\n",
      "Supraventricular Tachycardia& 85.7767& 96.3541\\\\ \\hline\n",
      "Atrial Tachycardia& 52.0237& 18.0000\\\\ \\hline\n",
      "Atrioventricular Node Reentrant Tachycardia& 18.0000& 256.0000\\\\ \\hline\n",
      "Sinus Atrium to Atrial Wandering Rhythm& 256.0000& 256.0000\\\\ \\hline\n",
      "Atrioventricular Reentrant Tachycardia& 120.5715& 256.0000\\\\ \\hline\n"
     ]
    }
   ],
   "source": [
    "\n",
    "for arrhytmia in arrhytmia_types:\n",
    "    print (f'{rhythm_fullname_mapping[arrhytmia]}&{dp_means[0][rhythm_fullname_mapping[arrhytmia]]: 0.4f}&{dp_means[1][rhythm_fullname_mapping[arrhytmia]]: 0.4f}\\\\\\\\ \\\\hline')"
   ]
  },
  {
   "cell_type": "code",
   "execution_count": 130,
   "metadata": {},
   "outputs": [
    {
     "data": {
      "text/plain": [
       "0.018181818181818167"
      ]
     },
     "execution_count": 130,
     "metadata": {},
     "output_type": "execute_result"
    }
   ],
   "source": [
    "acc.remaining()[0]"
   ]
  },
  {
   "cell_type": "code",
   "execution_count": null,
   "metadata": {},
   "outputs": [],
   "source": []
  },
  {
   "cell_type": "markdown",
   "metadata": {},
   "source": [
    "#### 5.1.6) Approximate Differential privacy (epsilon+ delta)  "
   ]
  },
  {
   "cell_type": "code",
   "execution_count": 1,
   "metadata": {},
   "outputs": [
    {
     "name": "stdout",
     "output_type": "stream",
     "text": [
      "delta: 9.393199323689648e-07\n"
     ]
    },
    {
     "ename": "NameError",
     "evalue": "name 'dp' is not defined",
     "output_type": "error",
     "traceback": [
      "\u001b[0;31m---------------------------------------------------------------------------\u001b[0m",
      "\u001b[0;31mNameError\u001b[0m                                 Traceback (most recent call last)",
      "\u001b[0;32m<ipython-input-1-c5be8cafe3b8>\u001b[0m in \u001b[0;36m<module>\u001b[0;34m\u001b[0m\n\u001b[1;32m      7\u001b[0m \u001b[0;32mfor\u001b[0m \u001b[0mi\u001b[0m \u001b[0;32min\u001b[0m \u001b[0mrange\u001b[0m\u001b[0;34m(\u001b[0m\u001b[0mnum_of_runs\u001b[0m\u001b[0;34m)\u001b[0m\u001b[0;34m:\u001b[0m\u001b[0;34m\u001b[0m\u001b[0;34m\u001b[0m\u001b[0m\n\u001b[1;32m      8\u001b[0m     \u001b[0mtotal_epsilon_budget\u001b[0m\u001b[0;34m=\u001b[0m\u001b[0;36m0.2\u001b[0m\u001b[0;34m\u001b[0m\u001b[0;34m\u001b[0m\u001b[0m\n\u001b[0;32m----> 9\u001b[0;31m     \u001b[0macc\u001b[0m \u001b[0;34m=\u001b[0m \u001b[0mdp\u001b[0m\u001b[0;34m.\u001b[0m\u001b[0mBudgetAccountant\u001b[0m\u001b[0;34m(\u001b[0m\u001b[0mepsilon\u001b[0m\u001b[0;34m=\u001b[0m\u001b[0mtotal_epsilon_budget\u001b[0m\u001b[0;34m,\u001b[0m \u001b[0mdelta\u001b[0m\u001b[0;34m=\u001b[0m\u001b[0mtotal_delta\u001b[0m\u001b[0;34m,\u001b[0m\u001b[0mslack\u001b[0m\u001b[0;34m=\u001b[0m\u001b[0mdelta_slack\u001b[0m\u001b[0;34m)\u001b[0m\u001b[0;34m\u001b[0m\u001b[0;34m\u001b[0m\u001b[0m\n\u001b[0m\u001b[1;32m     10\u001b[0m     \u001b[0macc\u001b[0m\u001b[0;34m.\u001b[0m\u001b[0mset_default\u001b[0m\u001b[0;34m(\u001b[0m\u001b[0;34m)\u001b[0m\u001b[0;34m\u001b[0m\u001b[0;34m\u001b[0m\u001b[0m\n\u001b[1;32m     11\u001b[0m     \u001b[0meps_unit\u001b[0m\u001b[0;34m=\u001b[0m\u001b[0mtotal_epsilon_budget\u001b[0m\u001b[0;34m/\u001b[0m\u001b[0;36m11\u001b[0m\u001b[0;34m\u001b[0m\u001b[0;34m\u001b[0m\u001b[0m\n",
      "\u001b[0;31mNameError\u001b[0m: name 'dp' is not defined"
     ]
    }
   ],
   "source": [
    "total_delta=1\n",
    "delta_slack=1/(100*10646)#this delta value guarntees that 99% leak wont happen for each user due to addition of delta\n",
    "print(f\"delta: {delta_slack}\")\n",
    "\n",
    "approx_dp_means=[]\n",
    "num_of_runs=2\n",
    "for i in range(num_of_runs):\n",
    "    total_epsilon_budget=0.2\n",
    "    acc = dp.BudgetAccountant(epsilon=total_epsilon_budget, delta=total_delta,slack=delta_slack)\n",
    "    acc.set_default()\n",
    "    eps_unit=total_epsilon_budget/11\n",
    "    \n",
    "    run={}\n",
    "    for arrhytmia in arrhytmia_types:\n",
    "        if acc.remaining()[0]<eps_unit:\n",
    "            eps_unit=acc.remaining()[0]\n",
    "        run[rhythm_fullname_mapping[arrhytmia]]=dp.tools.mean(ecg_df[Y_df==arrhytmia].values[:,QRSDuration_index],bounds=ranges[QRSDuration_index],epsilon=eps_unit)\n",
    "    approx_dp_means.append(run)\n"
   ]
  },
  {
   "cell_type": "code",
   "execution_count": 234,
   "metadata": {},
   "outputs": [
    {
     "data": {
      "text/plain": [
       "(epsilon=1.1102230246251566e-17, delta=1.0)"
      ]
     },
     "execution_count": 234,
     "metadata": {},
     "output_type": "execute_result"
    }
   ],
   "source": [
    "acc.remaining()"
   ]
  },
  {
   "cell_type": "code",
   "execution_count": 216,
   "metadata": {},
   "outputs": [
    {
     "name": "stdout",
     "output_type": "stream",
     "text": [
      "Atrial Fibrillation& 105.8062& 92.4601\\\\ \\hline\n",
      "Sinus Bradycardia& 92.5342& 93.3452\\\\ \\hline\n",
      "Sinus Irregularity& 59.4757& 117.9870\\\\ \\hline\n",
      "Atrial Flutter& 90.3509& 96.0809\\\\ \\hline\n",
      "Sinus Rhythm& 88.8872& 94.3970\\\\ \\hline\n",
      "Sinus Tachycardia& 96.1214& 99.5332\\\\ \\hline\n",
      "Supraventricular Tachycardia& 96.0013& 94.5605\\\\ \\hline\n",
      "Atrial Tachycardia& 254.1035& 48.8832\\\\ \\hline\n",
      "Atrioventricular Node Reentrant Tachycardia& 18.0000& 28.6774\\\\ \\hline\n",
      "Sinus Atrium to Atrial Wandering Rhythm& 256.0000& 81.9996\\\\ \\hline\n",
      "Atrioventricular Reentrant Tachycardia& 18.0000& 256.0000\\\\ \\hline\n"
     ]
    }
   ],
   "source": [
    "\n",
    "for arrhytmia in arrhytmia_types:\n",
    "    print (f'{rhythm_fullname_mapping[arrhytmia]}&{approx_dp_means[0][rhythm_fullname_mapping[arrhytmia]]: 0.4f}&{approx_dp_means[1][rhythm_fullname_mapping[arrhytmia]]: 0.4f}\\\\\\\\ \\\\hline')"
   ]
  },
  {
   "cell_type": "code",
   "execution_count": 126,
   "metadata": {},
   "outputs": [
    {
     "data": {
      "text/plain": [
       "(epsilon=1.2212453270876722e-17, delta=0.0010000000000000009)"
      ]
     },
     "execution_count": 126,
     "metadata": {},
     "output_type": "execute_result"
    }
   ],
   "source": [
    "acc.remaining()"
   ]
  },
  {
   "cell_type": "markdown",
   "metadata": {},
   "source": [
    "#### mean values per age group"
   ]
  },
  {
   "cell_type": "code",
   "execution_count": 48,
   "metadata": {},
   "outputs": [
    {
     "name": "stdout",
     "output_type": "stream",
     "text": [
      "************run: 1**************\n",
      "AFIB\n",
      "actual: 88.70906630581868\n",
      "dp: 173.78739507409924\n",
      "SB\n",
      "actual: 86.94460227272727\n",
      "dp: 81.43274064609611\n",
      "SA\n",
      "actual: 82.42045454545455\n",
      "dp: 18.0\n",
      "AF\n",
      "actual: 91.44680851063829\n",
      "dp: 256.0\n",
      "SR\n",
      "actual: 82.943359375\n",
      "dp: 71.64847603639979\n",
      "ST\n",
      "actual: 81.14434330299089\n",
      "dp: 18.0\n",
      "SVT\n",
      "actual: 91.8961038961039\n",
      "dp: 18.0\n",
      "AT\n",
      "actual: 83.05263157894737\n",
      "dp: 18.0\n",
      "AVNRT\n",
      "actual: 91.16666666666667\n",
      "dp: 18.0\n",
      "SAAWR\n",
      "actual: 84.0\n",
      "dp: 256.0\n",
      "AVRT\n",
      "actual: 81.33333333333333\n",
      "dp: 256.0\n",
      "************run: 2**************\n",
      "AFIB\n",
      "actual: 88.70906630581868\n",
      "dp: 69.25205247411296\n",
      "SB\n",
      "actual: 86.94460227272727\n",
      "dp: 96.8015710610814\n",
      "SA\n",
      "actual: 82.42045454545455\n",
      "dp: 18.0\n",
      "AF\n",
      "actual: 91.44680851063829\n",
      "dp: 256.0\n",
      "SR\n",
      "actual: 82.943359375\n",
      "dp: 40.74844250146039\n",
      "ST\n",
      "actual: 81.14434330299089\n",
      "dp: 55.26487940632792\n",
      "SVT\n",
      "actual: 91.8961038961039\n",
      "dp: 136.85261354433663\n",
      "AT\n",
      "actual: 83.05263157894737\n",
      "dp: 18.0\n",
      "AVNRT\n",
      "actual: 91.16666666666667\n",
      "dp: 18.0\n",
      "SAAWR\n",
      "actual: 84.0\n",
      "dp: 256.0\n",
      "AVRT\n",
      "actual: 81.33333333333333\n",
      "dp: 256.0\n",
      "************run: 3**************\n",
      "AFIB\n",
      "actual: 88.70906630581868\n",
      "dp: 256.0\n",
      "SB\n",
      "actual: 86.94460227272727\n",
      "dp: 123.14973851914468\n",
      "SA\n",
      "actual: 82.42045454545455\n",
      "dp: 18.0\n",
      "AF\n",
      "actual: 91.44680851063829\n",
      "dp: 18.0\n",
      "SR\n",
      "actual: 82.943359375\n",
      "dp: 89.89589763000026\n",
      "ST\n",
      "actual: 81.14434330299089\n",
      "dp: 179.5613747870272\n",
      "SVT\n",
      "actual: 91.8961038961039\n",
      "dp: 128.6573777069655\n",
      "AT\n",
      "actual: 83.05263157894737\n",
      "dp: 256.0\n",
      "AVNRT\n",
      "actual: 91.16666666666667\n",
      "dp: 18.0\n",
      "SAAWR\n",
      "actual: 84.0\n",
      "dp: 256.0\n",
      "AVRT\n",
      "actual: 81.33333333333333\n",
      "dp: 256.0\n"
     ]
    },
    {
     "name": "stderr",
     "output_type": "stream",
     "text": [
      "/anaconda3/lib/python3.7/site-packages/ipykernel_launcher.py:13: UserWarning: Boolean Series key will be reindexed to match DataFrame index.\n",
      "  del sys.path[0]\n",
      "/anaconda3/lib/python3.7/site-packages/ipykernel_launcher.py:14: UserWarning: Boolean Series key will be reindexed to match DataFrame index.\n",
      "  \n"
     ]
    }
   ],
   "source": [
    "#FEMALE\n",
    "num_of_runs=3\n",
    "for i in range(num_of_runs):\n",
    "    total_epsilon_budget=0.11\n",
    "    acc = dp.BudgetAccountant(total_epsilon_budget, 0)\n",
    "    acc.set_default()\n",
    "\n",
    "    eps_unit=total_epsilon_budget/11\n",
    "    ecg_df_female=ecg_df[ecg_df['Gender_encoded']==1]\n",
    "    print(f'************run: {i+1}**************')\n",
    "    for arrhytmia in arrhytmia_types:\n",
    "        if acc.remaining()[0]<eps_unit:\n",
    "            eps_unit=acc.remaining()[0]\n",
    "        print(arrhytmia)\n",
    "        print('actual: '+str(np.mean(ecg_df_female[Y_df==arrhytmia].values[:,QRSDuration_index])))\n",
    "        print('dp: '+str (dp.tools.mean(ecg_df_female[Y_df==arrhytmia].values[:,QRSDuration_index],bounds=ranges[QRSDuration_index],epsilon=eps_unit)))\n"
   ]
  },
  {
   "cell_type": "code",
   "execution_count": 49,
   "metadata": {},
   "outputs": [
    {
     "name": "stdout",
     "output_type": "stream",
     "text": [
      "************run: 1**************\n",
      "AFIB\n",
      "actual: 95.67146974063401\n",
      "dp: 101.50531950523555\n",
      "SB\n",
      "actual: 96.93510681176944\n",
      "dp: 106.17928769919682\n",
      "SA\n",
      "actual: 91.42600896860986\n",
      "dp: 28.786219617769888\n",
      "AF\n",
      "actual: 101.57976653696498\n",
      "dp: 184.89255007114696\n",
      "SR\n",
      "actual: 92.18952618453865\n",
      "dp: 80.72648489337175\n",
      "ST\n",
      "actual: 89.2540675844806\n",
      "dp: 114.05775549529294\n",
      "SVT\n",
      "actual: 100.64516129032258\n",
      "dp: 98.74118713807574\n",
      "AT\n",
      "actual: 94.21875\n",
      "dp: 36.62638174378238\n",
      "AVNRT\n",
      "actual: 86.0\n",
      "dp: 18.0\n",
      "SAAWR\n",
      "actual: 90.0\n",
      "dp: 18.0\n",
      "AVRT\n",
      "actual: 81.6\n",
      "dp: 18.0\n",
      "************run: 2**************\n",
      "AFIB\n",
      "actual: 95.67146974063401\n",
      "dp: 103.12256888165065\n",
      "SB\n",
      "actual: 96.93510681176944\n",
      "dp: 108.24015095055397\n",
      "SA\n",
      "actual: 91.42600896860986\n",
      "dp: 101.00768932396096\n",
      "AF\n",
      "actual: 101.57976653696498\n",
      "dp: 18.0\n",
      "SR\n",
      "actual: 92.18952618453865\n",
      "dp: 131.2911691327608\n",
      "ST\n",
      "actual: 89.2540675844806\n",
      "dp: 75.28702395816379\n",
      "SVT\n",
      "actual: 100.64516129032258\n",
      "dp: 65.47972375744398\n",
      "AT\n",
      "actual: 94.21875\n",
      "dp: 256.0\n",
      "AVNRT\n",
      "actual: 86.0\n",
      "dp: 18.0\n",
      "SAAWR\n",
      "actual: 90.0\n",
      "dp: 256.0\n",
      "AVRT\n",
      "actual: 81.6\n",
      "dp: 18.0\n",
      "************run: 3**************\n",
      "AFIB\n",
      "actual: 95.67146974063401\n",
      "dp: 116.05590202212323\n",
      "SB\n",
      "actual: 96.93510681176944\n",
      "dp: 87.77987366189546\n",
      "SA\n",
      "actual: 91.42600896860986\n",
      "dp: 18.0\n",
      "AF\n",
      "actual: 101.57976653696498\n",
      "dp: 248.22882296180705\n",
      "SR\n",
      "actual: 92.18952618453865\n",
      "dp: 95.13411653399471\n",
      "ST\n",
      "actual: 89.2540675844806\n",
      "dp: 130.18483348431846\n",
      "SVT\n",
      "actual: 100.64516129032258\n",
      "dp: 255.63703461909046\n",
      "AT\n",
      "actual: 94.21875\n",
      "dp: 256.0\n",
      "AVNRT\n",
      "actual: 86.0\n",
      "dp: 18.0\n",
      "SAAWR\n",
      "actual: 90.0\n",
      "dp: 256.0\n",
      "AVRT\n",
      "actual: 81.6\n",
      "dp: 256.0\n"
     ]
    },
    {
     "name": "stderr",
     "output_type": "stream",
     "text": [
      "/anaconda3/lib/python3.7/site-packages/ipykernel_launcher.py:13: UserWarning: Boolean Series key will be reindexed to match DataFrame index.\n",
      "  del sys.path[0]\n",
      "/anaconda3/lib/python3.7/site-packages/ipykernel_launcher.py:14: UserWarning: Boolean Series key will be reindexed to match DataFrame index.\n",
      "  \n"
     ]
    }
   ],
   "source": [
    "#MALE\n",
    "num_of_runs=3\n",
    "for i in range(num_of_runs):\n",
    "    total_epsilon_budget=0.11\n",
    "    acc = dp.BudgetAccountant(total_epsilon_budget, 0)\n",
    "    acc.set_default()\n",
    "\n",
    "    eps_unit=total_epsilon_budget/11\n",
    "    ecg_df_female=ecg_df[ecg_df['Gender_encoded']==0]\n",
    "    print(f'************run: {i+1}**************')\n",
    "    for arrhytmia in arrhytmia_types:\n",
    "        print(arrhytmia)\n",
    "        print('actual: '+str(np.mean(ecg_df_female[Y_df==arrhytmia].values[:,QRSDuration_index])))\n",
    "        print('dp: '+str (dp.tools.mean(ecg_df_female[Y_df==arrhytmia].values[:,QRSDuration_index],bounds=ranges[QRSDuration_index],epsilon=eps_unit)))\n"
   ]
  },
  {
   "cell_type": "code",
   "execution_count": null,
   "metadata": {},
   "outputs": [],
   "source": []
  },
  {
   "cell_type": "markdown",
   "metadata": {},
   "source": [
    "### 5.2)  Median Values Report"
   ]
  },
  {
   "cell_type": "code",
   "execution_count": 220,
   "metadata": {},
   "outputs": [],
   "source": [
    "#actuals\n",
    "median_actuals={}\n",
    "for arrhytmia in arrhytmia_types:\n",
    "       median_actuals[rhythm_fullname_mapping[arrhytmia]]=np.median(ecg_df[Y_df==arrhytmia].values[:,QRSDuration_index])\n",
    "\n",
    "        "
   ]
  },
  {
   "cell_type": "code",
   "execution_count": 221,
   "metadata": {},
   "outputs": [],
   "source": [
    "dp_medians=[]\n",
    "num_of_runs=2\n",
    "for i in range(num_of_runs):\n",
    "    total_epsilon_budget=0.2\n",
    "    acc = dp.BudgetAccountant(epsilon=total_epsilon_budget)\n",
    "    acc.set_default()\n",
    "    eps_unit=total_epsilon_budget/11\n",
    "    \n",
    "    run={}\n",
    "    for arrhytmia in arrhytmia_types:\n",
    "        if acc.remaining()[0]<eps_unit:\n",
    "            eps_unit=acc.remaining()[0]\n",
    "        run[rhythm_fullname_mapping[arrhytmia]]=dp.tools.median(ecg_df[Y_df==arrhytmia].values[:,QRSDuration_index],bounds=ranges[QRSDuration_index],epsilon=eps_unit)\n",
    "    dp_medians.append(run)\n",
    "\n",
    "\n",
    "\n"
   ]
  },
  {
   "cell_type": "code",
   "execution_count": 62,
   "metadata": {},
   "outputs": [
    {
     "data": {
      "text/plain": [
       "(epsilon=1.2212453270876722e-17, delta=0.0)"
      ]
     },
     "execution_count": 62,
     "metadata": {},
     "output_type": "execute_result"
    }
   ],
   "source": [
    "acc.remaining()"
   ]
  },
  {
   "cell_type": "code",
   "execution_count": 222,
   "metadata": {},
   "outputs": [
    {
     "name": "stdout",
     "output_type": "stream",
     "text": [
      "Atrial Fibrillation& 88.0000& 89.8094& 89.3675\\\\ \\hline\n",
      "Sinus Bradycardia& 92.0000& 91.6741& 88.3865\\\\ \\hline\n",
      "Sinus Irregularity& 86.0000& 216.8734& 87.1713\\\\ \\hline\n",
      "Atrial Flutter& 90.0000& 219.0696& 183.2532\\\\ \\hline\n",
      "Sinus Rhythm& 86.0000& 84.1707& 87.1782\\\\ \\hline\n",
      "Sinus Tachycardia& 82.0000& 81.1739& 85.6976\\\\ \\hline\n",
      "Supraventricular Tachycardia& 84.0000& 83.7181& 99.5226\\\\ \\hline\n",
      "Atrial Tachycardia& 86.0000& 75.9621& 79.5899\\\\ \\hline\n",
      "Atrioventricular Node Reentrant Tachycardia& 82.0000& 170.2546& 203.1612\\\\ \\hline\n",
      "Sinus Atrium to Atrial Wandering Rhythm& 90.0000& 44.5616& 80.2591\\\\ \\hline\n",
      "Atrioventricular Reentrant Tachycardia& 78.0000& 255.0393& 126.6465\\\\ \\hline\n"
     ]
    }
   ],
   "source": [
    "\n",
    "for arrhytmia in arrhytmia_types:\n",
    "    print (f'{rhythm_fullname_mapping[arrhytmia]}&{median_actuals[rhythm_fullname_mapping[arrhytmia]]: 0.4f}&{dp_medians[0][rhythm_fullname_mapping[arrhytmia]]: 0.4f}&{dp_medians[1][rhythm_fullname_mapping[arrhytmia]]: 0.4f}\\\\\\\\ \\\\hline')"
   ]
  },
  {
   "cell_type": "code",
   "execution_count": null,
   "metadata": {},
   "outputs": [],
   "source": []
  }
 ],
 "metadata": {
  "kernelspec": {
   "display_name": "Python 3",
   "language": "python",
   "name": "python3"
  },
  "language_info": {
   "codemirror_mode": {
    "name": "ipython",
    "version": 3
   },
   "file_extension": ".py",
   "mimetype": "text/x-python",
   "name": "python",
   "nbconvert_exporter": "python",
   "pygments_lexer": "ipython3",
   "version": "3.7.1"
  }
 },
 "nbformat": 4,
 "nbformat_minor": 2
}
